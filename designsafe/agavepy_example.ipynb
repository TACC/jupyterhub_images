{
 "cells": [
  {
   "cell_type": "markdown",
   "metadata": {},
   "source": [
    "# Exploring Agave Using the agavepy Libarary"
   ]
  },
  {
   "cell_type": "markdown",
   "metadata": {},
   "source": [
    "In this notebook, we introduce some basic uses of the agavepy Python library for interacting with the Agave Platform science-as-a-service APIs. The examples primarily draw from the apps service, but the concepts introduced are broadly applicable to all Agave services. In subsequent notebooks, we'll take deeper dives into specific topics such as using agavepy to launch and monitor an Agave job. For more information about Agave, please see the developer site: http://agaveapi.co/"
   ]
  },
  {
   "cell_type": "markdown",
   "metadata": {},
   "source": [
    "The agavepy library provides a high-level Python binding to the Agave API. The first step is to import the Agave class:"
   ]
  },
  {
   "cell_type": "code",
   "execution_count": 34,
   "metadata": {
    "collapsed": true
   },
   "outputs": [],
   "source": [
    "from agavepy.agave import Agave"
   ]
  },
  {
   "cell_type": "markdown",
   "metadata": {},
   "source": [
    "Before we can interact with Agave, we need to instantiate a client. Typically, we would use the constructor and pass in our credentials (OAuth client key and secret as well as our username and password) together with configuration data for our \"tenant\", the organization within Agave we wish to interact with. \n",
    "\n",
    "The agavepy library's Agave class also provides a restore() method for reconstituting previous OAuth sessions. Previous sessions are read from and written to a cache file, /etc/.agpy, so that OAuth sessions persist across iPython sessions. When you authenticated to JupyterHub, the OAuth login was written to the .agpy file. We can therefore use the restore method to create an OAuth client without needing to pass any credentials:"
   ]
  },
  {
   "cell_type": "code",
   "execution_count": 35,
   "metadata": {
    "collapsed": true
   },
   "outputs": [],
   "source": [
    "ag = Agave.restore()"
   ]
  },
  {
   "cell_type": "markdown",
   "metadata": {},
   "source": [
    "Note that the restore method can take arguments (such as client_name) so that you can restore/manage multiple OAuth sessions. When first getting started on the hub, there is only one session in the cache file, so no arguments are required. \n",
    "\n",
    "If we ever want to inspect the OAuth session being used by our client, we have a few methods available to us. First, we can print the token_info dictionary on the token object:"
   ]
  },
  {
   "cell_type": "code",
   "execution_count": 36,
   "metadata": {
    "collapsed": false
   },
   "outputs": [
    {
     "data": {
      "text/plain": [
       "{'access_token': u'39b5c847e62f2814ac8938f42e961a',\n",
       " 'refresh_token': u'564f25643448c1e5b225bfed32a65ec'}"
      ]
     },
     "execution_count": 36,
     "metadata": {},
     "output_type": "execute_result"
    }
   ],
   "source": [
    "ag.token.token_info"
   ]
  },
  {
   "cell_type": "markdown",
   "metadata": {},
   "source": [
    "This shows us both the access and refresh tokens being used. We can also see the end user profile associated with these tokens:"
   ]
  },
  {
   "cell_type": "code",
   "execution_count": 37,
   "metadata": {
    "collapsed": false
   },
   "outputs": [
    {
     "data": {
      "text/plain": [
       "{u'create_time': u'20140515180254Z',\n",
       " u'email': u'jstubbs@tacc.utexas.edu',\n",
       " u'first_name': u'Joe',\n",
       " u'full_name': u'jstubbs',\n",
       " u'last_name': u'Stubbs',\n",
       " u'mobile_phone': u'',\n",
       " u'phone': u'',\n",
       " u'status': u'',\n",
       " u'username': u'jstubbs'}"
      ]
     },
     "execution_count": 37,
     "metadata": {},
     "output_type": "execute_result"
    }
   ],
   "source": [
    "ag.profiles.get()"
   ]
  },
  {
   "cell_type": "markdown",
   "metadata": {},
   "source": [
    "Finally, we can inspect the ag object directly for attributes like api_key, api_secret, api_server, etc."
   ]
  },
  {
   "cell_type": "code",
   "execution_count": 38,
   "metadata": {
    "collapsed": false
   },
   "outputs": [
    {
     "name": "stdout",
     "output_type": "stream",
     "text": [
      "3J_tyBc6329PxHtyYMSewFJPyNsa cboMOXUFfDJAO7CV68u0KFUStbca https://agave.designsafe-ci.org\n"
     ]
    }
   ],
   "source": [
    "print ag.api_key, ag.api_secret, ag.api_server"
   ]
  },
  {
   "cell_type": "markdown",
   "metadata": {},
   "source": [
    "We are now ready to interact with Agave services using our agavepy client. We can take a quick look at the available top-level methods of our client:"
   ]
  },
  {
   "cell_type": "code",
   "execution_count": 39,
   "metadata": {
    "collapsed": false
   },
   "outputs": [
    {
     "data": {
      "text/plain": [
       "[u'apps',\n",
       " u'clients',\n",
       " u'files',\n",
       " u'jobs',\n",
       " u'meta',\n",
       " u'monitors',\n",
       " u'notifications',\n",
       " u'postits',\n",
       " u'profiles',\n",
       " u'systems',\n",
       " u'transforms']"
      ]
     },
     "execution_count": 39,
     "metadata": {},
     "output_type": "execute_result"
    }
   ],
   "source": [
    "dir(ag)"
   ]
  },
  {
   "cell_type": "markdown",
   "metadata": {},
   "source": [
    "We see there is a top-level method for each of the core science APIs in agave. We will focus on the apps service since it is of broad interest, but much of what we illustrate is generally applicable to all Agave core science APIs. \n",
    "\n",
    "We can browse a specific collection using the list() method. For example, let's see what apps are available to us:"
   ]
  },
  {
   "cell_type": "code",
   "execution_count": 40,
   "metadata": {
    "collapsed": false
   },
   "outputs": [
    {
     "data": {
      "text/plain": [
       "[{u'_links': {u'self': {u'href': u'https://agave.designsafe-ci.org/apps/v2/adcirc-parallel-1920-51.33'}},\n",
       "  u'executionSystem': u'designsafe.community.exec.stampede.nores',\n",
       "  u'id': u'adcirc-parallel-1920-51.33',\n",
       "  u'isPublic': False,\n",
       "  u'label': u'Parallel ADCIRC 1920',\n",
       "  u'lastModified': datetime.datetime(2016, 8, 22, 15, 44, 20, tzinfo=tzoffset(None, -18000)),\n",
       "  u'name': u'adcirc-parallel-1920',\n",
       "  u'revision': 1,\n",
       "  u'shortDescription': u'Parallel ADCIRC is for solving systems of shallow water equations with applications to hurricane storm surge modeling.',\n",
       "  u'version': u'51.33'},\n",
       " {u'_links': {u'self': {u'href': u'https://agave.designsafe-ci.org/apps/v2/Matlab-batch-0.3'}},\n",
       "  u'executionSystem': u'designsafe.community.exec.stampede',\n",
       "  u'id': u'Matlab-batch-0.3',\n",
       "  u'isPublic': False,\n",
       "  u'label': u'MATLAB (batch)',\n",
       "  u'lastModified': datetime.datetime(2016, 8, 18, 13, 44, 24, tzinfo=tzoffset(None, -18000)),\n",
       "  u'name': u'Matlab-batch',\n",
       "  u'revision': 7,\n",
       "  u'shortDescription': u'Run a batch (non-interactive) MATLAB 2016a session on Stampede. Submit a help ticket to get your license configured or approved.',\n",
       "  u'version': u'0.3'},\n",
       " {u'_links': {u'self': {u'href': u'https://agave.designsafe-ci.org/apps/v2/Matlab-0.3'}},\n",
       "  u'executionSystem': u'designsafe.community.exec.stampede',\n",
       "  u'id': u'Matlab-0.3',\n",
       "  u'isPublic': False,\n",
       "  u'label': u'MATLAB',\n",
       "  u'lastModified': datetime.datetime(2016, 8, 16, 10, 8, 13, tzinfo=tzoffset(None, -18000)),\n",
       "  u'name': u'Matlab',\n",
       "  u'revision': 3,\n",
       "  u'shortDescription': u'Run an interactive MATLAB 2016a session on Stampede. Submit a help ticket to get your license configured or approved.',\n",
       "  u'version': u'0.3'},\n",
       " {u'_links': {u'self': {u'href': u'https://agave.designsafe-ci.org/apps/v2/Matlab-0.2'}},\n",
       "  u'executionSystem': u'designsafe.community.exec.stampede',\n",
       "  u'id': u'Matlab-0.2',\n",
       "  u'isPublic': False,\n",
       "  u'label': u'MATLAB updated',\n",
       "  u'lastModified': datetime.datetime(2016, 8, 10, 13, 59, 37, tzinfo=tzoffset(None, -18000)),\n",
       "  u'name': u'Matlab',\n",
       "  u'revision': 8,\n",
       "  u'shortDescription': u'Run an interactive MATLAB 2015b session on Stampede. Submit a help ticket to get your license configured or approved.',\n",
       "  u'version': u'0.2'},\n",
       " {u'_links': {u'self': {u'href': u'https://agave.designsafe-ci.org/apps/v2/Matlab-0.3u2'}},\n",
       "  u'executionSystem': u'designsafe.community.exec.stampede',\n",
       "  u'id': u'Matlab-0.3u2',\n",
       "  u'isPublic': True,\n",
       "  u'label': u'MATLAB',\n",
       "  u'lastModified': datetime.datetime(2016, 8, 5, 15, 15, 2, tzinfo=tzoffset(None, -18000)),\n",
       "  u'name': u'Matlab',\n",
       "  u'revision': 2,\n",
       "  u'shortDescription': u'Run an interactive MATLAB 2016a session on Stampede. Submit a help ticket to get your license configured or approved.',\n",
       "  u'version': u'0.3'},\n",
       " {u'_links': {u'self': {u'href': u'https://agave.designsafe-ci.org/apps/v2/adcirc-parallel-51.33u5'}},\n",
       "  u'executionSystem': u'designsafe.community.exec.stampede.nores',\n",
       "  u'id': u'adcirc-parallel-51.33u5',\n",
       "  u'isPublic': True,\n",
       "  u'label': u'Parallel ADCIRC',\n",
       "  u'lastModified': datetime.datetime(2016, 7, 15, 10, 22, 37, tzinfo=tzoffset(None, -18000)),\n",
       "  u'name': u'adcirc-parallel',\n",
       "  u'revision': 5,\n",
       "  u'shortDescription': u'Parallel ADCIRC is a computer program for solving systems of shallow water equations with applications to hurricane storm surge modeling.',\n",
       "  u'version': u'51.33'},\n",
       " {u'_links': {u'self': {u'href': u'https://agave.designsafe-ci.org/apps/v2/adcirc-parallel-51.33'}},\n",
       "  u'executionSystem': u'designsafe.community.exec.stampede.nores',\n",
       "  u'id': u'adcirc-parallel-51.33',\n",
       "  u'isPublic': False,\n",
       "  u'label': u'Parallel ADCIRC',\n",
       "  u'lastModified': datetime.datetime(2016, 7, 15, 10, 22, 13, tzinfo=tzoffset(None, -18000)),\n",
       "  u'name': u'adcirc-parallel',\n",
       "  u'revision': 16,\n",
       "  u'shortDescription': u'Parallel ADCIRC is a computer program for solving systems of shallow water equations with applications to hurricane storm surge modeling.',\n",
       "  u'version': u'51.33'},\n",
       " {u'_links': {u'self': {u'href': u'https://agave.designsafe-ci.org/apps/v2/Matlab-0.3u1'}},\n",
       "  u'executionSystem': u'designsafe.community.exec.stampede',\n",
       "  u'id': u'Matlab-0.3u1',\n",
       "  u'isPublic': True,\n",
       "  u'label': u'MATLAB',\n",
       "  u'lastModified': datetime.datetime(2016, 6, 16, 16, 3, 36, tzinfo=tzoffset(None, -18000)),\n",
       "  u'name': u'Matlab',\n",
       "  u'revision': 1,\n",
       "  u'shortDescription': u'Run an interactive MATLAB 2016a session on Stampede. Submit a help ticket to get your license configured or approved.',\n",
       "  u'version': u'0.3'},\n",
       " {u'_links': {u'self': {u'href': u'https://agave.designsafe-ci.org/apps/v2/Paraview-Maverick-4.3.1u1'}},\n",
       "  u'executionSystem': u'designsafe.community.exec.maverick',\n",
       "  u'id': u'Paraview-Maverick-4.3.1u1',\n",
       "  u'isPublic': True,\n",
       "  u'label': u'Paraview',\n",
       "  u'lastModified': datetime.datetime(2016, 6, 6, 8, 41, tzinfo=tzoffset(None, -18000)),\n",
       "  u'name': u'Paraview-Maverick',\n",
       "  u'revision': 1,\n",
       "  u'shortDescription': u'Run an interactive Paraview session on Maverick.',\n",
       "  u'version': u'4.3.1'},\n",
       " {u'_links': {u'self': {u'href': u'https://agave.designsafe-ci.org/apps/v2/Paraview-Maverick-4.3.1'}},\n",
       "  u'executionSystem': u'designsafe.community.exec.maverick',\n",
       "  u'id': u'Paraview-Maverick-4.3.1',\n",
       "  u'isPublic': False,\n",
       "  u'label': u'Paraview',\n",
       "  u'lastModified': datetime.datetime(2016, 6, 6, 8, 36, 10, tzinfo=tzoffset(None, -18000)),\n",
       "  u'name': u'Paraview-Maverick',\n",
       "  u'revision': 1,\n",
       "  u'shortDescription': u'Run an interactive Paraview session on Maverick.',\n",
       "  u'version': u'4.3.1'},\n",
       " {u'_links': {u'self': {u'href': u'https://agave.designsafe-ci.org/apps/v2/extract-0.1u1'}},\n",
       "  u'executionSystem': u'designsafe.community.data-01',\n",
       "  u'id': u'extract-0.1u1',\n",
       "  u'isPublic': True,\n",
       "  u'label': u'Extract tar/zip/gzip File',\n",
       "  u'lastModified': datetime.datetime(2016, 6, 6, 8, 29, 24, tzinfo=tzoffset(None, -18000)),\n",
       "  u'name': u'extract',\n",
       "  u'revision': 1,\n",
       "  u'shortDescription': u'Extract a tar, tar.gz, tgz, gz, or zip file.',\n",
       "  u'version': u'0.1'},\n",
       " {u'_links': {u'self': {u'href': u'https://agave.designsafe-ci.org/apps/v2/Paraview-Maverick-5.0.1'}},\n",
       "  u'executionSystem': u'designsafe.community.exec.maverick',\n",
       "  u'id': u'Paraview-Maverick-5.0.1',\n",
       "  u'isPublic': False,\n",
       "  u'label': u'Paraview-Maverick',\n",
       "  u'lastModified': datetime.datetime(2016, 6, 2, 12, 5, 23, tzinfo=tzoffset(None, -18000)),\n",
       "  u'name': u'Paraview-Maverick',\n",
       "  u'revision': 6,\n",
       "  u'shortDescription': u'Run an interactive Paraview session on Maverick.',\n",
       "  u'version': u'5.0.1'},\n",
       " {u'_links': {u'self': {u'href': u'https://agave.designsafe-ci.org/apps/v2/Paraview-5.0.1'}},\n",
       "  u'executionSystem': u'designsafe.community.exec.stampede',\n",
       "  u'id': u'Paraview-5.0.1',\n",
       "  u'isPublic': False,\n",
       "  u'label': u'Paraview',\n",
       "  u'lastModified': datetime.datetime(2016, 5, 26, 13, 45, 17, tzinfo=tzoffset(None, -18000)),\n",
       "  u'name': u'Paraview',\n",
       "  u'revision': 1,\n",
       "  u'shortDescription': u'Run an interactive Paraview session on Stampede.',\n",
       "  u'version': u'5.0.1'},\n",
       " {u'_links': {u'self': {u'href': u'https://agave.designsafe-ci.org/apps/v2/Paraview-4.3.1'}},\n",
       "  u'executionSystem': u'designsafe.community.exec.stampede',\n",
       "  u'id': u'Paraview-4.3.1',\n",
       "  u'isPublic': False,\n",
       "  u'label': u'Paraview',\n",
       "  u'lastModified': datetime.datetime(2016, 5, 26, 13, 33, 34, tzinfo=tzoffset(None, -18000)),\n",
       "  u'name': u'Paraview',\n",
       "  u'revision': 2,\n",
       "  u'shortDescription': u'Run an interactive Paraview session on Stampede.',\n",
       "  u'version': u'4.3.1'},\n",
       " {u'_links': {u'self': {u'href': u'https://agave.designsafe-ci.org/apps/v2/extract-0.1'}},\n",
       "  u'executionSystem': u'designsafe.community.data-01',\n",
       "  u'id': u'extract-0.1',\n",
       "  u'isPublic': False,\n",
       "  u'label': u'Extract tar/zip/gzip File',\n",
       "  u'lastModified': datetime.datetime(2016, 5, 23, 15, 28, 56, tzinfo=tzoffset(None, -18000)),\n",
       "  u'name': u'extract',\n",
       "  u'revision': 10,\n",
       "  u'shortDescription': u'Extract a tar, tar.gz, tgz, gz, or zip file.',\n",
       "  u'version': u'0.1'},\n",
       " {u'_links': {u'self': {u'href': u'https://agave.designsafe-ci.org/apps/v2/opensees-mp-2.5.0.6248u5'}},\n",
       "  u'executionSystem': u'designsafe.community.exec.stampede',\n",
       "  u'id': u'opensees-mp-2.5.0.6248u5',\n",
       "  u'isPublic': True,\n",
       "  u'label': u'OpenSeesMP',\n",
       "  u'lastModified': datetime.datetime(2016, 5, 23, 9, 37, 57, tzinfo=tzoffset(None, -18000)),\n",
       "  u'name': u'opensees-mp',\n",
       "  u'revision': 5,\n",
       "  u'shortDescription': u'OpenSees is a software framework for simulating the seismic response of structural and geotechnical systems.',\n",
       "  u'version': u'2.5.0.6248'},\n",
       " {u'_links': {u'self': {u'href': u'https://agave.designsafe-ci.org/apps/v2/opensees-mp-2.5.0.6248'}},\n",
       "  u'executionSystem': u'designsafe.community.exec.stampede',\n",
       "  u'id': u'opensees-mp-2.5.0.6248',\n",
       "  u'isPublic': False,\n",
       "  u'label': u'OpenSeesMP',\n",
       "  u'lastModified': datetime.datetime(2016, 5, 23, 9, 37, 46, tzinfo=tzoffset(None, -18000)),\n",
       "  u'name': u'opensees-mp',\n",
       "  u'revision': 17,\n",
       "  u'shortDescription': u'OpenSees is a software framework for simulating the seismic response of structural and geotechnical systems.',\n",
       "  u'version': u'2.5.0.6248'},\n",
       " {u'_links': {u'self': {u'href': u'https://agave.designsafe-ci.org/apps/v2/opensees-docker-2.5.0.6248u2'}},\n",
       "  u'executionSystem': u'designsafe.community.data-01',\n",
       "  u'id': u'opensees-docker-2.5.0.6248u2',\n",
       "  u'isPublic': True,\n",
       "  u'label': u'OpenSees-EXPRESS',\n",
       "  u'lastModified': datetime.datetime(2016, 5, 16, 16, 44, 47, tzinfo=tzoffset(None, -18000)),\n",
       "  u'name': u'opensees-docker',\n",
       "  u'revision': 2,\n",
       "  u'shortDescription': u'OpenSees is a software framework for simulating the seismic response of structural and geotechnical systems.',\n",
       "  u'version': u'2.5.0.6248'},\n",
       " {u'_links': {u'self': {u'href': u'https://agave.designsafe-ci.org/apps/v2/opensees-docker-2.5.0.6248'}},\n",
       "  u'executionSystem': u'designsafe.community.data-01',\n",
       "  u'id': u'opensees-docker-2.5.0.6248',\n",
       "  u'isPublic': False,\n",
       "  u'label': u'OpenSees-EXPRESS',\n",
       "  u'lastModified': datetime.datetime(2016, 5, 16, 16, 44, 19, tzinfo=tzoffset(None, -18000)),\n",
       "  u'name': u'opensees-docker',\n",
       "  u'revision': 16,\n",
       "  u'shortDescription': u'OpenSees is a software framework for simulating the seismic response of structural and geotechnical systems.',\n",
       "  u'version': u'2.5.0.6248'},\n",
       " {u'_links': {u'self': {u'href': u'https://agave.designsafe-ci.org/apps/v2/vnc-0.1'}},\n",
       "  u'executionSystem': u'designsafe.community.exec.stampede',\n",
       "  u'id': u'vnc-0.1',\n",
       "  u'isPublic': False,\n",
       "  u'label': u'VNC Desktop',\n",
       "  u'lastModified': datetime.datetime(2016, 4, 28, 13, 36, 51, tzinfo=tzoffset(None, -18000)),\n",
       "  u'name': u'vnc',\n",
       "  u'revision': 4,\n",
       "  u'shortDescription': u'Run a desktop session on Stampede.',\n",
       "  u'version': u'0.1'},\n",
       " {u'_links': {u'self': {u'href': u'https://agave.designsafe-ci.org/apps/v2/opensees-sp-2.5.0.6248u2'}},\n",
       "  u'executionSystem': u'designsafe.community.exec.stampede',\n",
       "  u'id': u'opensees-sp-2.5.0.6248u2',\n",
       "  u'isPublic': True,\n",
       "  u'label': u'OpenSeesSP',\n",
       "  u'lastModified': datetime.datetime(2016, 3, 30, 13, 0, 20, tzinfo=tzoffset(None, -18000)),\n",
       "  u'name': u'opensees-sp',\n",
       "  u'revision': 2,\n",
       "  u'shortDescription': u'OpenSees is a software framework for simulating the seismic response of structural and geotechnical systems.',\n",
       "  u'version': u'2.5.0.6248'},\n",
       " {u'_links': {u'self': {u'href': u'https://agave.designsafe-ci.org/apps/v2/opensees-sp-2.5.0.6248'}},\n",
       "  u'executionSystem': u'designsafe.community.exec.stampede',\n",
       "  u'id': u'opensees-sp-2.5.0.6248',\n",
       "  u'isPublic': False,\n",
       "  u'label': u'OpenSeesSP',\n",
       "  u'lastModified': datetime.datetime(2016, 3, 30, 13, 0, 10, tzinfo=tzoffset(None, -18000)),\n",
       "  u'name': u'opensees-sp',\n",
       "  u'revision': 2,\n",
       "  u'shortDescription': u'OpenSees is a software framework for simulating the seismic response of structural and geotechnical systems.',\n",
       "  u'version': u'2.5.0.6248'},\n",
       " {u'_links': {u'self': {u'href': u'https://agave.designsafe-ci.org/apps/v2/opensees-2.5.0.6248'}},\n",
       "  u'executionSystem': u'designsafe.community.exec.stampede',\n",
       "  u'id': u'opensees-2.5.0.6248',\n",
       "  u'isPublic': False,\n",
       "  u'label': u'OpenSeesSP',\n",
       "  u'lastModified': datetime.datetime(2016, 3, 25, 12, 6, 53, tzinfo=tzoffset(None, -18000)),\n",
       "  u'name': u'opensees',\n",
       "  u'revision': 1,\n",
       "  u'shortDescription': u'OpenSees is a software framework for simulating the seismic response of structural and geotechnical systems.',\n",
       "  u'version': u'2.5.0.6248'},\n",
       " {u'_links': {u'self': {u'href': u'https://agave.designsafe-ci.org/apps/v2/opensees-2.4.4.5804'}},\n",
       "  u'executionSystem': u'designsafe.community.exec.stampede',\n",
       "  u'id': u'opensees-2.4.4.5804',\n",
       "  u'isPublic': False,\n",
       "  u'label': u'OpenSeesSP',\n",
       "  u'lastModified': datetime.datetime(2016, 3, 11, 7, 54, 37, tzinfo=tzoffset(None, -21600)),\n",
       "  u'name': u'opensees',\n",
       "  u'revision': 29,\n",
       "  u'shortDescription': u'OpenSees is a software framework for simulating the seismic response of structural and geotechnical systems.',\n",
       "  u'version': u'2.4.4.5804'},\n",
       " {u'_links': {u'self': {u'href': u'https://agave.designsafe-ci.org/apps/v2/OpenSeesMP-2.4.6.6123'}},\n",
       "  u'executionSystem': u'designsafe.community.exec.stampede',\n",
       "  u'id': u'OpenSeesMP-2.4.6.6123',\n",
       "  u'isPublic': False,\n",
       "  u'label': u'OpenSeesMP',\n",
       "  u'lastModified': datetime.datetime(2016, 3, 9, 12, 0, 31, tzinfo=tzoffset(None, -21600)),\n",
       "  u'name': u'OpenSeesMP',\n",
       "  u'revision': 13,\n",
       "  u'shortDescription': u'OpenSees is a software framework for simulating the seismic response of structural and geotechnical systems.',\n",
       "  u'version': u'2.4.6.6123'},\n",
       " {u'_links': {u'self': {u'href': u'https://agave.designsafe-ci.org/apps/v2/Matlab-0.1'}},\n",
       "  u'executionSystem': u'designsafe.community.exec.stampede',\n",
       "  u'id': u'Matlab-0.1',\n",
       "  u'isPublic': False,\n",
       "  u'label': u'MATLAB',\n",
       "  u'lastModified': datetime.datetime(2016, 3, 8, 15, 24, 17, tzinfo=tzoffset(None, -21600)),\n",
       "  u'name': u'Matlab',\n",
       "  u'revision': 17,\n",
       "  u'shortDescription': u'Run an interactive MATLAB 2015b session on Stampede. Submit a help ticket to get your license configured or approved.',\n",
       "  u'version': u'0.1'},\n",
       " {u'_links': {u'self': {u'href': u'https://agave.designsafe-ci.org/apps/v2/adcirc-51.33u15'}},\n",
       "  u'executionSystem': u'designsafe.community.exec.stampede',\n",
       "  u'id': u'adcirc-51.33u15',\n",
       "  u'isPublic': True,\n",
       "  u'label': u'ADCIRC',\n",
       "  u'lastModified': datetime.datetime(2016, 3, 4, 16, 18, 43, tzinfo=tzoffset(None, -21600)),\n",
       "  u'name': u'adcirc',\n",
       "  u'revision': 15,\n",
       "  u'shortDescription': u'ADCIRC is a system of computer programs for solving time dependent, free surface circulation and transport problems in two and three dimensions.',\n",
       "  u'version': u'51.33'},\n",
       " {u'_links': {u'self': {u'href': u'https://agave.designsafe-ci.org/apps/v2/adcirc-51.33'}},\n",
       "  u'executionSystem': u'designsafe.community.exec.stampede',\n",
       "  u'id': u'adcirc-51.33',\n",
       "  u'isPublic': False,\n",
       "  u'label': u'ADCIRC',\n",
       "  u'lastModified': datetime.datetime(2016, 3, 4, 16, 18, 39, tzinfo=tzoffset(None, -21600)),\n",
       "  u'name': u'adcirc',\n",
       "  u'revision': 17,\n",
       "  u'shortDescription': u'ADCIRC is a system of computer programs for solving time dependent, free surface circulation and transport problems in two and three dimensions.',\n",
       "  u'version': u'51.33'},\n",
       " {u'_links': {u'self': {u'href': u'https://agave.designsafe-ci.org/apps/v2/openfoam-2.4.0u11'}},\n",
       "  u'executionSystem': u'designsafe.community.exec.stampede',\n",
       "  u'id': u'openfoam-2.4.0u11',\n",
       "  u'isPublic': True,\n",
       "  u'label': u'OpenFOAM',\n",
       "  u'lastModified': datetime.datetime(2016, 3, 3, 13, 12, 40, tzinfo=tzoffset(None, -21600)),\n",
       "  u'name': u'openfoam',\n",
       "  u'revision': 11,\n",
       "  u'shortDescription': u'OpenFOAM is free, open source software for computational fluid dynamics (CFD), developed primarily by CFD Direct, on behalf of the OpenFOAM Foundation.',\n",
       "  u'version': u'2.4.0'},\n",
       " {u'_links': {u'self': {u'href': u'https://agave.designsafe-ci.org/apps/v2/openfoam-2.4.0'}},\n",
       "  u'executionSystem': u'designsafe.community.exec.stampede',\n",
       "  u'id': u'openfoam-2.4.0',\n",
       "  u'isPublic': False,\n",
       "  u'label': u'OpenFOAM',\n",
       "  u'lastModified': datetime.datetime(2016, 3, 3, 13, 12, 33, tzinfo=tzoffset(None, -21600)),\n",
       "  u'name': u'openfoam',\n",
       "  u'revision': 11,\n",
       "  u'shortDescription': u'OpenFOAM is free, open source software for computational fluid dynamics (CFD), developed primarily by CFD Direct, on behalf of the OpenFOAM Foundation.',\n",
       "  u'version': u'2.4.0'}]"
      ]
     },
     "execution_count": 40,
     "metadata": {},
     "output_type": "execute_result"
    }
   ],
   "source": [
    "ag.apps.list()"
   ]
  },
  {
   "cell_type": "markdown",
   "metadata": {},
   "source": [
    "What we see in the output above is a python list representing the JSON object returned from Agave's apps service. It is a list of objects, each of which representing a single app. Let's capture the first app object and inspect it. To do that we can use normal Python list notation:"
   ]
  },
  {
   "cell_type": "code",
   "execution_count": 41,
   "metadata": {
    "collapsed": true
   },
   "outputs": [],
   "source": [
    "app = ag.apps.list()[0]"
   ]
  },
  {
   "cell_type": "code",
   "execution_count": 42,
   "metadata": {
    "collapsed": false
   },
   "outputs": [
    {
     "name": "stdout",
     "output_type": "stream",
     "text": [
      "<class 'agavepy.agave.AttrDict'>\n"
     ]
    },
    {
     "data": {
      "text/plain": [
       "{u'_links': {u'self': {u'href': u'https://agave.designsafe-ci.org/apps/v2/adcirc-parallel-1920-51.33'}},\n",
       " u'executionSystem': u'designsafe.community.exec.stampede.nores',\n",
       " u'id': u'adcirc-parallel-1920-51.33',\n",
       " u'isPublic': False,\n",
       " u'label': u'Parallel ADCIRC 1920',\n",
       " u'lastModified': datetime.datetime(2016, 8, 22, 15, 44, 20, tzinfo=tzoffset(None, -18000)),\n",
       " u'name': u'adcirc-parallel-1920',\n",
       " u'revision': 1,\n",
       " u'shortDescription': u'Parallel ADCIRC is for solving systems of shallow water equations with applications to hurricane storm surge modeling.',\n",
       " u'version': u'51.33'}"
      ]
     },
     "execution_count": 42,
     "metadata": {},
     "output_type": "execute_result"
    }
   ],
   "source": [
    "print type(app); app"
   ]
  },
  {
   "cell_type": "markdown",
   "metadata": {},
   "source": [
    "We see that the app object is of type agavepy.agave.AttrDict. That's a Python dictionary with some customizations to provide convenience features such as using dot notation for keys/attributes. For example, we see that the app object has an 'id' key. We can access it directly using dot notation:"
   ]
  },
  {
   "cell_type": "code",
   "execution_count": 43,
   "metadata": {
    "collapsed": false
   },
   "outputs": [
    {
     "data": {
      "text/plain": [
       "u'adcirc-parallel-1920-51.33'"
      ]
     },
     "execution_count": 43,
     "metadata": {},
     "output_type": "execute_result"
    }
   ],
   "source": [
    "app.id"
   ]
  },
  {
   "cell_type": "markdown",
   "metadata": {},
   "source": [
    "Equivalently, we can use normal Python dictionary syntax:"
   ]
  },
  {
   "cell_type": "code",
   "execution_count": 44,
   "metadata": {
    "collapsed": false
   },
   "outputs": [
    {
     "data": {
      "text/plain": [
       "u'adcirc-parallel-1920-51.33'"
      ]
     },
     "execution_count": 44,
     "metadata": {},
     "output_type": "execute_result"
    }
   ],
   "source": [
    "app['id']"
   ]
  },
  {
   "cell_type": "markdown",
   "metadata": {},
   "source": [
    "In Agave, the app id is the unique identifier for the application. We'll come back to that in a minute. For now, just know that this example is very typical of responses from agavepy: in general the JSON response object is represented by lists of AttrDicts.\n",
    "\n",
    "Stepping back for a second, let's explore the apps collection a bit. We can always get a list of operations available for a collection by using the dir(-) method:"
   ]
  },
  {
   "cell_type": "code",
   "execution_count": 45,
   "metadata": {
    "collapsed": false
   },
   "outputs": [
    {
     "data": {
      "text/plain": [
       "[u'add',\n",
       " u'delete',\n",
       " u'deletePermissions',\n",
       " u'deletePermissionsForUser',\n",
       " u'get',\n",
       " u'getJobSubmissionForm',\n",
       " u'list',\n",
       " u'listByName',\n",
       " u'listByOntologyTerm',\n",
       " u'listBySystemId',\n",
       " u'listByTag',\n",
       " u'listPermissions',\n",
       " u'listPermissionsForUser',\n",
       " u'manage',\n",
       " u'update',\n",
       " u'updateApplicationPermissions',\n",
       " u'updatePermissionsForUser']"
      ]
     },
     "execution_count": 45,
     "metadata": {},
     "output_type": "execute_result"
    }
   ],
   "source": [
    "dir(ag.apps)"
   ]
  },
  {
   "cell_type": "markdown",
   "metadata": {},
   "source": [
    "Also notice that we have tab-completion on these operations. So, if we start typing \"ag.apps.l\" and then hit tab, Jupyter provides a select box of operations beginning with \"l\". Try putting the following cell in focus and then hitting the tab key (but don't actually hit enter or try to execute the cell; otherwise you'll get an exception because there's no method called \"l\"):"
   ]
  },
  {
   "cell_type": "code",
   "execution_count": null,
   "metadata": {
    "collapsed": true
   },
   "outputs": [],
   "source": [
    "ag.apps.l"
   ]
  },
  {
   "cell_type": "markdown",
   "metadata": {},
   "source": [
    "If we would like to get details about a specific object for which we know the unique id, in general we use the get method, passing in the id for the object. Here, we will use an app id we found from the ag.apps.list command."
   ]
  },
  {
   "cell_type": "code",
   "execution_count": 47,
   "metadata": {
    "collapsed": false
   },
   "outputs": [
    {
     "data": {
      "text/plain": [
       "{u'_links': {u'executionSystem': {u'href': u'https://agave.designsafe-ci.org/systems/v2/designsafe.community.exec.stampede.nores'},\n",
       "  u'history': {u'href': u'https://agave.designsafe-ci.org/apps/v2/adcirc-parallel-1920-51.33/history'},\n",
       "  u'metadata': {u'href': u'https://agave.designsafe-ci.org/meta/v2/data/?q=%7B%22associationIds%22%3A%223709002573100421606-242ac116-0001-005%22%7D'},\n",
       "  u'owner': {u'href': u'https://agave.designsafe-ci.org/profiles/v2/mock'},\n",
       "  u'permissions': {u'href': u'https://agave.designsafe-ci.org/apps/v2/adcirc-parallel-1920-51.33/pems'},\n",
       "  u'self': {u'href': u'https://agave.designsafe-ci.org/apps/v2/adcirc-parallel-1920-51.33'},\n",
       "  u'storageSystem': {u'href': u'https://agave.designsafe-ci.org/systems/v2/designsafe.storage.default'}},\n",
       " u'available': True,\n",
       " u'checkpointable': False,\n",
       " u'defaultMaxRunTime': u'04:00:00',\n",
       " u'defaultMemoryPerNode': 1,\n",
       " u'defaultNodeCount': 120,\n",
       " u'defaultProcessorsPerNode': 1920,\n",
       " u'defaultQueue': u'normal',\n",
       " u'deploymentPath': u'mock/apps/adcirc/51.33-parallel',\n",
       " u'deploymentSystem': u'designsafe.storage.default',\n",
       " u'executionSystem': u'designsafe.community.exec.stampede.nores',\n",
       " u'executionType': u'HPC',\n",
       " u'helpURI': u'http://adcirc.org/',\n",
       " u'icon': None,\n",
       " u'id': u'adcirc-parallel-1920-51.33',\n",
       " u'inputs': [{u'details': {u'argument': None,\n",
       "    u'description': u\"The directory containing your ADCIRC input files. You can drag the link for the directory from the Data Browser on the left, or click the 'Select Input' button and then select the directory. To try this out with example data, copy and paste 'agave://designsafe.storage.default/mock/examples/adcirc/EC2001' above.\",\n",
       "    u'label': u'Input Directory',\n",
       "    u'repeatArgument': False,\n",
       "    u'showArgument': False},\n",
       "   u'id': u'inputDirectory',\n",
       "   u'semantics': {u'fileTypes': [u'raw-0'],\n",
       "    u'maxCardinality': 1,\n",
       "    u'minCardinality': 1,\n",
       "    u'ontology': [u'xsd:string']},\n",
       "   u'value': {u'default': u'agave://designsafe.storage.default/mock/examples/adcirc/EC2001',\n",
       "    u'enquote': False,\n",
       "    u'order': 0,\n",
       "    u'required': True,\n",
       "    u'validator': u'',\n",
       "    u'visible': True}}],\n",
       " u'isPublic': False,\n",
       " u'label': u'Parallel ADCIRC 1920',\n",
       " u'lastModified': datetime.datetime(2016, 8, 22, 15, 44, 20, tzinfo=tzoffset(None, -18000)),\n",
       " u'longDescription': u'Parallel ADCIRC is a computer program for solving systems of shallow water equations with applications to hurricane storm surge modeling. Documentation can be found at www.adcirc.org. Simulations are run on Stampede using 10 nodes.',\n",
       " u'modules': [],\n",
       " u'name': u'adcirc-parallel-1920',\n",
       " u'ontology': [],\n",
       " u'outputs': [],\n",
       " u'parallelism': u'PARALLEL',\n",
       " u'parameters': [{u'details': {u'argument': None,\n",
       "    u'description': u'Select your mesh file. This is usually your fort.14 file. This file should reside in the Input Directory specified above.',\n",
       "    u'label': u'Mesh File',\n",
       "    u'repeatArgument': False,\n",
       "    u'showArgument': False},\n",
       "   u'id': u'meshFile',\n",
       "   u'semantics': {u'maxCardinality': 1,\n",
       "    u'minCardinality': 1,\n",
       "    u'ontology': [u'xsd:string']},\n",
       "   u'value': {u'default': u'fort.14',\n",
       "    u'enquote': False,\n",
       "    u'order': 0,\n",
       "    u'required': True,\n",
       "    u'type': u'string',\n",
       "    u'validator': u'',\n",
       "    u'visible': True}}],\n",
       " u'revision': 1,\n",
       " u'shortDescription': u'Parallel ADCIRC is for solving systems of shallow water equations with applications to hurricane storm surge modeling.',\n",
       " u'tags': [u'DesignSafe',\n",
       "  u'hazards',\n",
       "  u'NHERI',\n",
       "  u'circulation',\n",
       "  u'storm surge',\n",
       "  u'larval transport',\n",
       "  u'free surface circulation',\n",
       "  u'transport problems',\n",
       "  u'finite element',\n",
       "  u'engineering'],\n",
       " u'templatePath': u'wrapper.sh',\n",
       " u'testPath': u'test/test.sh',\n",
       " u'uuid': u'3709002573100421606-242ac116-0001-005',\n",
       " u'version': u'51.33'}"
      ]
     },
     "execution_count": 47,
     "metadata": {},
     "output_type": "execute_result"
    }
   ],
   "source": [
    "ag.apps.get(appId=app.id)"
   ]
  },
  {
   "cell_type": "markdown",
   "metadata": {},
   "source": [
    "Whoa, that's a lot of information. We aren't going to give a comprehensive introduction to Agave applications in this notebook. Instead we refer you to the official Agave app tutorial on the website: http://agaveapi.co/documentation/tutorials/app-management-tutorial/\n",
    "\n",
    "However, we will point out a couple of important points. Let's capture that response in an object called full_app:"
   ]
  },
  {
   "cell_type": "code",
   "execution_count": 48,
   "metadata": {
    "collapsed": true
   },
   "outputs": [],
   "source": [
    "full_app = ag.apps.get(appId=app.id)"
   ]
  },
  {
   "cell_type": "markdown",
   "metadata": {},
   "source": [
    "Complex sub-objects of the application such as application inputs and parameters come back as top level attributes. and are represented as lists. The individual elements of the list are represented as AttrDicts. We can see this by exploring our full_app's inputs:"
   ]
  },
  {
   "cell_type": "code",
   "execution_count": 49,
   "metadata": {
    "collapsed": false
   },
   "outputs": [
    {
     "name": "stdout",
     "output_type": "stream",
     "text": [
      "<type 'list'>\n",
      "<class 'agavepy.agave.AttrDict'>\n"
     ]
    },
    {
     "data": {
      "text/plain": [
       "{u'details': {u'argument': None,\n",
       "  u'description': u\"The directory containing your ADCIRC input files. You can drag the link for the directory from the Data Browser on the left, or click the 'Select Input' button and then select the directory. To try this out with example data, copy and paste 'agave://designsafe.storage.default/mock/examples/adcirc/EC2001' above.\",\n",
       "  u'label': u'Input Directory',\n",
       "  u'repeatArgument': False,\n",
       "  u'showArgument': False},\n",
       " u'id': u'inputDirectory',\n",
       " u'semantics': {u'fileTypes': [u'raw-0'],\n",
       "  u'maxCardinality': 1,\n",
       "  u'minCardinality': 1,\n",
       "  u'ontology': [u'xsd:string']},\n",
       " u'value': {u'default': u'agave://designsafe.storage.default/mock/examples/adcirc/EC2001',\n",
       "  u'enquote': False,\n",
       "  u'order': 0,\n",
       "  u'required': True,\n",
       "  u'validator': u'',\n",
       "  u'visible': True}}"
      ]
     },
     "execution_count": 49,
     "metadata": {},
     "output_type": "execute_result"
    }
   ],
   "source": [
    "print type(full_app.inputs); print type(full_app.inputs[0]); full_app.inputs[0]"
   ]
  },
  {
   "cell_type": "markdown",
   "metadata": {},
   "source": [
    "Then, if we want the input id, we can use dot notation or dictionary notation just as before:"
   ]
  },
  {
   "cell_type": "code",
   "execution_count": 50,
   "metadata": {
    "collapsed": false
   },
   "outputs": [
    {
     "data": {
      "text/plain": [
       "u'inputDirectory'"
      ]
     },
     "execution_count": 50,
     "metadata": {},
     "output_type": "execute_result"
    }
   ],
   "source": [
    "full_app.inputs[0].id"
   ]
  },
  {
   "cell_type": "markdown",
   "metadata": {},
   "source": [
    "You now have the ability to fully explore individual Agave objects returned from agavepy, but what about searching for objects? The Agave platform provides a powerful search feature across most services, and agavepy supports that as well. \n",
    "\n",
    "Every retrieval operation in agavepy (for example, apps.list) supports a \"search\" argument. The syntax for the search argument is identical to that described in the Agave documentation: it uses a dot notation combining search terms, values and (optional) operators. The search object itself should be a python dictionary with strings for the keys and values. Formally, each key:value pair in the dictionary adheres to the following form: \n",
    "                        $$term.operator:value$$\n",
    "The operator is optional and defaults to equality ('eq'). For example, the following search filters the list of all apps down to just those with the id attribute equal to our app.id:"
   ]
  },
  {
   "cell_type": "code",
   "execution_count": 51,
   "metadata": {
    "collapsed": false
   },
   "outputs": [
    {
     "data": {
      "text/plain": [
       "[{u'_links': {u'self': {u'href': u'https://agave.designsafe-ci.org/apps/v2/adcirc-parallel-1920-51.33'}},\n",
       "  u'executionSystem': u'designsafe.community.exec.stampede.nores',\n",
       "  u'id': u'adcirc-parallel-1920-51.33',\n",
       "  u'isPublic': False,\n",
       "  u'label': u'Parallel ADCIRC 1920',\n",
       "  u'lastModified': datetime.datetime(2016, 8, 22, 15, 44, 20, tzinfo=tzoffset(None, -18000)),\n",
       "  u'name': u'adcirc-parallel-1920',\n",
       "  u'revision': 1,\n",
       "  u'shortDescription': u'Parallel ADCIRC is for solving systems of shallow water equations with applications to hurricane storm surge modeling.',\n",
       "  u'version': u'51.33'}]"
      ]
     },
     "execution_count": 51,
     "metadata": {},
     "output_type": "execute_result"
    }
   ],
   "source": [
    "ag.apps.list(search={'id': app.id})"
   ]
  },
  {
   "cell_type": "markdown",
   "metadata": {},
   "source": [
    "Equivalently, we could explicitly set the equality operator:"
   ]
  },
  {
   "cell_type": "code",
   "execution_count": 52,
   "metadata": {
    "collapsed": false
   },
   "outputs": [
    {
     "data": {
      "text/plain": [
       "[{u'_links': {u'self': {u'href': u'https://agave.designsafe-ci.org/apps/v2/adcirc-parallel-1920-51.33'}},\n",
       "  u'executionSystem': u'designsafe.community.exec.stampede.nores',\n",
       "  u'id': u'adcirc-parallel-1920-51.33',\n",
       "  u'isPublic': False,\n",
       "  u'label': u'Parallel ADCIRC 1920',\n",
       "  u'lastModified': datetime.datetime(2016, 8, 22, 15, 44, 20, tzinfo=tzoffset(None, -18000)),\n",
       "  u'name': u'adcirc-parallel-1920',\n",
       "  u'revision': 1,\n",
       "  u'shortDescription': u'Parallel ADCIRC is for solving systems of shallow water equations with applications to hurricane storm surge modeling.',\n",
       "  u'version': u'51.33'}]"
      ]
     },
     "execution_count": 52,
     "metadata": {},
     "output_type": "execute_result"
    }
   ],
   "source": [
    "ag.apps.list(search={'id.eq': app.id})"
   ]
  },
  {
   "cell_type": "markdown",
   "metadata": {},
   "source": [
    "Typically, the list of available search terms is identical to the attributes included in the JSON returned when requesting the full resource description. Operators include 'like', 'lt', 'gt', 'lte', 'gte', etc. See the official Agave documentation for the complete list. \n",
    "\n",
    "Here we retrieve all apps with a name is \"like\" opensees:"
   ]
  },
  {
   "cell_type": "code",
   "execution_count": 53,
   "metadata": {
    "collapsed": false
   },
   "outputs": [
    {
     "data": {
      "text/plain": [
       "[{u'_links': {u'self': {u'href': u'https://agave.designsafe-ci.org/apps/v2/opensees-2.5.0.6248'}},\n",
       "  u'executionSystem': u'designsafe.community.exec.stampede',\n",
       "  u'id': u'opensees-2.5.0.6248',\n",
       "  u'isPublic': False,\n",
       "  u'label': u'OpenSeesSP',\n",
       "  u'lastModified': datetime.datetime(2016, 3, 25, 12, 6, 53, tzinfo=tzoffset(None, -18000)),\n",
       "  u'name': u'opensees',\n",
       "  u'revision': 1,\n",
       "  u'shortDescription': u'OpenSees is a software framework for simulating the seismic response of structural and geotechnical systems.',\n",
       "  u'version': u'2.5.0.6248'},\n",
       " {u'_links': {u'self': {u'href': u'https://agave.designsafe-ci.org/apps/v2/opensees-2.4.4.5804'}},\n",
       "  u'executionSystem': u'designsafe.community.exec.stampede',\n",
       "  u'id': u'opensees-2.4.4.5804',\n",
       "  u'isPublic': False,\n",
       "  u'label': u'OpenSeesSP',\n",
       "  u'lastModified': datetime.datetime(2016, 3, 11, 7, 54, 37, tzinfo=tzoffset(None, -21600)),\n",
       "  u'name': u'opensees',\n",
       "  u'revision': 29,\n",
       "  u'shortDescription': u'OpenSees is a software framework for simulating the seismic response of structural and geotechnical systems.',\n",
       "  u'version': u'2.4.4.5804'}]"
      ]
     },
     "execution_count": 53,
     "metadata": {},
     "output_type": "execute_result"
    }
   ],
   "source": [
    "ag.apps.list(search={'name.like': 'opensees'})"
   ]
  },
  {
   "cell_type": "markdown",
   "metadata": {},
   "source": [
    "Two results were returned, both with name \"opensees\".\n",
    "\n",
    "You can include multiple search expressions in the form of additional key:value pairs to build a more restrictive query. Here we restrict the result to opensees apps with revision at least 25:"
   ]
  },
  {
   "cell_type": "code",
   "execution_count": 54,
   "metadata": {
    "collapsed": false
   },
   "outputs": [
    {
     "data": {
      "text/plain": [
       "[{u'_links': {u'self': {u'href': u'https://agave.designsafe-ci.org/apps/v2/opensees-2.4.4.5804'}},\n",
       "  u'executionSystem': u'designsafe.community.exec.stampede',\n",
       "  u'id': u'opensees-2.4.4.5804',\n",
       "  u'isPublic': False,\n",
       "  u'label': u'OpenSeesSP',\n",
       "  u'lastModified': datetime.datetime(2016, 3, 11, 7, 54, 37, tzinfo=tzoffset(None, -21600)),\n",
       "  u'name': u'opensees',\n",
       "  u'revision': 29,\n",
       "  u'shortDescription': u'OpenSees is a software framework for simulating the seismic response of structural and geotechnical systems.',\n",
       "  u'version': u'2.4.4.5804'}]"
      ]
     },
     "execution_count": 54,
     "metadata": {},
     "output_type": "execute_result"
    }
   ],
   "source": [
    "ag.apps.list(search={'name.like': 'opensees', 'revision.gte': 25})"
   ]
  },
  {
   "cell_type": "markdown",
   "metadata": {},
   "source": [
    "We hope this gives you enough general information to begin exploring the Agave services using agavepy on your own. In subsequent notebooks, we'll take deeper dives into specific topics such as using agavepy to launch and monitor an Agave job executing OpenSees on Stampede."
   ]
  },
  {
   "cell_type": "code",
   "execution_count": null,
   "metadata": {
    "collapsed": true
   },
   "outputs": [],
   "source": []
  }
 ],
 "metadata": {
  "kernelspec": {
   "display_name": "Python 2",
   "language": "python",
   "name": "python2"
  },
  "language_info": {
   "codemirror_mode": {
    "name": "ipython",
    "version": 2
   },
   "file_extension": ".py",
   "mimetype": "text/x-python",
   "name": "python",
   "nbconvert_exporter": "python",
   "pygments_lexer": "ipython2",
   "version": "2.7.12"
  }
 },
 "nbformat": 4,
 "nbformat_minor": 0
}
