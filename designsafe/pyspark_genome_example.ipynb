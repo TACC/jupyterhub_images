{
 "cells": [
  {
   "cell_type": "markdown",
   "metadata": {},
   "source": [
    "# A Genomics Example Using the pyspark Library"
   ]
  },
  {
   "cell_type": "markdown",
   "metadata": {},
   "source": [
    "A standard problem in metagenomics is to determine which species are present in a biological sample. This problem has many applications, from testing for specific viral and bacterial infections, to complete analysis of a human microbiome.  \n",
    "\n",
    "In this example notebook, we make use of the pyspark library to illustrate some techniques used in species classification. The basic idea is to make use of k-mers, a biological analog of n-grams, to compute the \"distance\" from one genetic sample to another. With enough distance calculations, we can predict with reasonable accuracy that two samples are the same if the distance between them is “small”.\n",
    "\n",
    "We note that this is a python3 notebook. At the moment, python3 is required to use the pyspark library."
   ]
  },
  {
   "cell_type": "markdown",
   "metadata": {},
   "source": [
    "First we import the third-party libraries we will need. Beyond some standard library imports, we also import matplotlib for plotting, numpy and scipy for numerical calculations, urllib for downloading the datasets, and pyspark for parallel computation. "
   ]
  },
  {
   "cell_type": "code",
   "execution_count": 1,
   "metadata": {
    "collapsed": false
   },
   "outputs": [],
   "source": [
    "import string, os\n",
    "import matplotlib\n",
    "import matplotlib.pyplot as plt\n",
    "%matplotlib inline\n",
    "from IPython.display import Image, display, Math, Latex, SVG, HTML\n",
    "import numpy as np\n",
    "from scipy.cluster.hierarchy import linkage,dendrogram\n",
    "from scipy.spatial.distance import pdist\n",
    "# from urllib2 import urlopen\n",
    "from urllib.request import urlopen\n",
    "import pyspark\n",
    "sc = pyspark.SparkContext('local[*]')"
   ]
  },
  {
   "cell_type": "markdown",
   "metadata": {},
   "source": [
    "In this notebook, we only concern ourselves with 5 different pathogens. We will compute pairwise k-mer distances to each of the following:"
   ]
  },
  {
   "cell_type": "markdown",
   "metadata": {},
   "source": [
    "## Pathogens ##\n",
    "\n",
    "- Campylobacter jejuni - causes infectious diarrhea\n",
    "- Helicobacter pylori - ulcers and stomach cancer\n",
    "- Listeria monocytogenes - infections of the central nervous system\n",
    "- Salmonella enterica - diarrhea, fever, vomiting\n",
    "- Ebolavirus - hemorrhagic fever"
   ]
  },
  {
   "cell_type": "markdown",
   "metadata": {},
   "source": [
    "We define a tuple of the pathogens we will analyze in this notebook. The id's refer to the NCBI database (http://www.ncbi.nlm.nih.gov/), which we use to download the files in parallel (using spark) and create a spark RDD."
   ]
  },
  {
   "cell_type": "code",
   "execution_count": 2,
   "metadata": {
    "collapsed": false
   },
   "outputs": [],
   "source": [
    "# Toy pathogen dataset of names and IDs\n",
    "\n",
    "bacteria = (\\\n",
    "(\"Campylobacter_jejuni_4031_uid222817\",\"NC_022529.fna\"),\\\n",
    "(\"Campylobacter_jejuni_RM1221_uid57899\",\"NC_003912.fna\"),\\\n",
    "(\"Helicobacter_pylori_2017_uid161151\",\"NC_017374.fna\"),\\\n",
    "(\"Helicobacter_pylori_Puno135_uid161157\",\"NC_017379.fna\"),\\\n",
    "(\"Listeria_monocytogenes_ATCC_19117_uid175109\",\"NC_018584.fna\"),\\\n",
    "(\"Listeria_monocytogenes_J0161_uid54459\",\"NC_017545.fna\"),\\\n",
    "(\"Listeria_monocytogenes_SLCC2376_uid175111\",\"NC_018590.fna\"),\\\n",
    "(\"Salmonella_enterica_serovar_Paratyphi_C_RKS4594_uid59063\",\"NC_012125.fna\"),\\\n",
    "(\"Salmonella_enterica_serovar_Typhimurium_14028S_uid86059\",\"NC_016856.fna\"))\n",
    "viruses = (\\\n",
    "(\"Bundibugyo_ebolavirus_uid51245\",\"NC_014373.fna\"),\\\n",
    "(\"Sudan_ebolavirus_uid15012\",\"NC_006432.fna\"),\\\n",
    "(\"Tai_Forest_ebolavirus_uid51257\",\"NC_014372.fna\"))"
   ]
  },
  {
   "cell_type": "code",
   "execution_count": 3,
   "metadata": {
    "collapsed": false
   },
   "outputs": [
    {
     "name": "stdout",
     "output_type": "stream",
     "text": [
      "                                          Pathogen    Bases             Sequence\n",
      "                         Campylobacter_jejuni_4031  1669329 ATGAATCCAAGCCAAATACT\n",
      "                       Campylobacter_jejuni_RM1221  1777831 ATGAATCCAAGCCAAATACT\n",
      "                          Helicobacter_pylori_2017  1548238 GTGATTAGTGATTAGTGATT\n",
      "                       Helicobacter_pylori_Puno135  1646139 TAAAACACCCTCAATTCAAG\n",
      "                 Listeria_monocytogenes_ATCC_19117  2951805 TAATTAAATCTAACAATTTC\n",
      "                      Listeria_monocytogenes_J0161  3000464 TAATTAAATCTAACAATTTC\n",
      "                   Listeria_monocytogenes_SLCC2376  2840185 TAATTAAATCTAACAATTTC\n",
      "   Salmonella_enterica_serovar_Paratyphi_C_RKS4594  4833080 AGAGATTACGTCTGGTTGCA\n",
      "    Salmonella_enterica_serovar_Typhimurium_14028S  4870265 AGAGATTACGTCTGGTTGCA\n",
      "                             Bundibugyo_ebolavirus    18940 CGGACACACAAAAAGAATGA\n",
      "                                  Sudan_ebolavirus    18875 CGGACACACAAAAAGAAAGA\n",
      "                             Tai_Forest_ebolavirus    18935 CGGACACACAAAAAGAAAGA\n"
     ]
    }
   ],
   "source": [
    "# Where to pull genomes from NCBI\n",
    "\n",
    "baseURL = \"ftp://ftp.ncbi.nih.gov/genomes\"\n",
    "bacteriaURL = baseURL+\"/archive/old_refseq/Bacteria\"\n",
    "virusURL = baseURL+\"/Viruses\"\n",
    "\n",
    "bacteriaURLs = [('_'.join(name.split('_')[:-1]), bacteriaURL+\"/\"+name+\"/\"+nc) for name, nc in bacteria]\n",
    "virusURLs = [('_'.join(name.split('_')[:-1]), virusURL+\"/\"+name+\"/\"+nc) for name, nc in viruses]\n",
    "\n",
    "genomeURLs = bacteriaURLs+virusURLs\n",
    "\n",
    "def getSequence(url):\n",
    "    FILE = urlopen(url)\n",
    "    tmp = FILE.readline()\n",
    "    return ''.join(map(lambda x: x.decode().rstrip('\\n'), FILE.readlines()))\n",
    "\n",
    "# Download genomes in parallel and create PySpark RDD\n",
    "genomes = sc.parallelize(genomeURLs).mapValues(getSequence)\n",
    "\n",
    "# Print out sample of data\n",
    "data = genomes.map(lambda x: (x[0],len(x[1]),x[1][:20])).collect() # collect partial sequences\n",
    "\n",
    "print(\"%50s %8s %20s\"%(\"Pathogen\",\"Bases\",\"Sequence\"))\n",
    "for name, lenSeq, seq in data:\n",
    "    print(\"%50s %8i %20s\"%(name, lenSeq, seq))"
   ]
  },
  {
   "cell_type": "markdown",
   "metadata": {},
   "source": [
    "## Comparing Genomes ##\n",
    "Comparing the genomes of the pathogens is not trivial. Not only does each genome have a different length, but also unique mutations between variants of the same species. One way to quantify these unique features without worrying about the biology is with **n-grams**: overlapping subsequences of N items. While n-grams were made for words, **k-mers** is the biological equivalent for nucleotides (AGCT). Assuming we had the following DNA sequence\n",
    "```\n",
    "ACCTGGTATA\n",
    "```\n",
    "The first two 4-mers (i.e., k=4) would be `ACCT` and `CCTG`.\n",
    "```\n",
    "ACCTGGTATA\n",
    "ACCT\n",
    " CCTG\n",
    "```\n",
    "Couting the occurance of k-mers allows genomic sequences to be compared in vector-space."
   ]
  },
  {
   "cell_type": "code",
   "execution_count": 4,
   "metadata": {
    "collapsed": false
   },
   "outputs": [],
   "source": [
    "def countKmers(seq):\n",
    "    # Function for counting k-mers using a hashing function.\n",
    "    # Modify k and arraySize for overal uniqueness\n",
    "    k = 7 # k-mer size\n",
    "    arraySize = 10000 # count array size\n",
    "    countArray = np.zeros(arraySize, dtype=np.uint32) # count array\n",
    "    for i in range(len(seq)-k):\n",
    "        kmer = seq[i:i+k] # pull kmer from sequence\n",
    "        hashValue = hash(kmer)%arraySize # calculate hash value\n",
    "        countArray[hashValue] += 1 # add count\n",
    "    return countArray\n",
    "\n",
    "# Count kmers in parallel\n",
    "genomeKmerFreqs = genomes.mapValues(countKmers).collect()"
   ]
  },
  {
   "cell_type": "code",
   "execution_count": 6,
   "metadata": {
    "collapsed": false
   },
   "outputs": [
    {
     "data": {
      "text/html": [
       "<h2>Jaccard Distance</h2><hr>"
      ],
      "text/plain": [
       "<IPython.core.display.HTML object>"
      ]
     },
     "metadata": {},
     "output_type": "display_data"
    },
    {
     "name": "stdout",
     "output_type": "stream",
     "text": [
      "A metric for quantifying set similarity.\n",
      "\n"
     ]
    },
    {
     "data": {
      "text/latex": [
       "$$JD(A,B)=1-\\frac{|A \\cap B|}{|A \\cup B|}, \\quad 0 \\le JD(A,B) \\le 1$$"
      ],
      "text/plain": [
       "<IPython.core.display.Math object>"
      ]
     },
     "metadata": {},
     "output_type": "display_data"
    },
    {
     "name": "stdout",
     "output_type": "stream",
     "text": [
      "\n",
      "J(C.jejuni, H.pylori) = 0.9923\n"
     ]
    },
    {
     "data": {
      "text/html": [
       "<h2>Correlation Distance</h2><hr>"
      ],
      "text/plain": [
       "<IPython.core.display.HTML object>"
      ]
     },
     "metadata": {},
     "output_type": "display_data"
    },
    {
     "name": "stdout",
     "output_type": "stream",
     "text": [
      "Distance metric based on correlation coefficient.\n",
      "\n"
     ]
    },
    {
     "data": {
      "text/latex": [
       "$$corrD(A,B)= 1 - \\frac{(u - \\bar{u}) \\dot (v - \\bar{v})}{{\\|(u - \\bar{u})\\|}_2{\\|(v - \\bar{v})\\|}_2}, \\quad 0 \\le corrD(A,B) \\le 2$$"
      ],
      "text/plain": [
       "<IPython.core.display.Math object>"
      ]
     },
     "metadata": {},
     "output_type": "display_data"
    },
    {
     "name": "stdout",
     "output_type": "stream",
     "text": [
      "\n",
      "corrD(C.jejuni, H.pylori) = 0.1596\n"
     ]
    },
    {
     "data": {
      "text/html": [
       "<h2>Cosine Distance</h2><hr>"
      ],
      "text/plain": [
       "<IPython.core.display.HTML object>"
      ]
     },
     "metadata": {},
     "output_type": "display_data"
    },
    {
     "name": "stdout",
     "output_type": "stream",
     "text": [
      "Angular distance between two vectors.\n"
     ]
    },
    {
     "data": {
      "image/svg+xml": [
       "<svg height=\"144pt\" version=\"1.1\" viewBox=\"0 0 144 144\" width=\"144pt\" xmlns=\"http://www.w3.org/2000/svg\" xmlns:xlink=\"http://www.w3.org/1999/xlink\">\n",
       " <defs>\n",
       "  <style type=\"text/css\">\n",
       "*{stroke-linecap:butt;stroke-linejoin:round;}\n",
       "  </style>\n",
       " </defs>\n",
       " <g id=\"figure_1\">\n",
       "  <g id=\"patch_1\">\n",
       "   <path d=\" M0 144 L144 144 L144 0 L0 0 z \" style=\"fill:#ffffff;\"/>\n",
       "  </g>\n",
       "  <g id=\"axes_1\">\n",
       "   <g id=\"patch_2\">\n",
       "    <path d=\" M23.035 115.34 L128.424 115.34 L128.424 18.81 L23.035 18.81 z \" style=\"fill:#ffffff;\"/>\n",
       "   </g>\n",
       "   <g id=\"patch_3\">\n",
       "    <path clip-path=\"url(#peb577d8c7e)\" d=\" M33.9049 20.7565 L34.622 23.7376 L33.6263 23.6416 L23.0874 115.345 L22.9826 115.335 L33.5215 23.6314 L32.5258 23.5354 z \" style=\"fill:#0000ff;stroke:#000000;stroke-width:2;\"/>\n",
       "   </g>\n",
       "   <g id=\"patch_4\">\n",
       "    <path clip-path=\"url(#peb577d8c7e)\" d=\" M126.069 75.6042 L123.564 77.6177 L123.175 76.7725 L23.0554 115.384 L23.0146 115.296 L123.134 76.6835 L122.746 75.8383 z \" style=\"fill:#0000ff;stroke:#000000;stroke-width:2;\"/>\n",
       "   </g>\n",
       "   <g id=\"matplotlib.axis_1\">\n",
       "    <g id=\"xtick_1\">\n",
       "     <g id=\"line2d_1\">\n",
       "      <defs>\n",
       "       <path d=\" M0 0 L0 -4\" id=\"m93b0483c22\" style=\"stroke:#000000;stroke-width:0.5;\"/>\n",
       "      </defs>\n",
       "      <g>\n",
       "       <use style=\"stroke:#000000;stroke-width:0.5;\" x=\"23.035\" xlink:href=\"#m93b0483c22\" y=\"115.34\"/>\n",
       "      </g>\n",
       "     </g>\n",
       "     <g id=\"line2d_2\">\n",
       "      <defs>\n",
       "       <path d=\" M0 0 L0 4\" id=\"m741efc42ff\" style=\"stroke:#000000;stroke-width:0.5;\"/>\n",
       "      </defs>\n",
       "      <g>\n",
       "       <use style=\"stroke:#000000;stroke-width:0.5;\" x=\"23.035\" xlink:href=\"#m741efc42ff\" y=\"18.81\"/>\n",
       "      </g>\n",
       "     </g>\n",
       "     <g id=\"text_1\">\n",
       "      <!-- 0 -->\n",
       "      <defs>\n",
       "       <path d=\" M31.7812 66.4062 Q24.1719 66.4062 20.3281 58.9062 Q16.5 51.4219 16.5 36.375 Q16.5 21.3906 20.3281 13.8906 Q24.1719 6.39062 31.7812 6.39062 Q39.4531 6.39062 43.2812 13.8906 Q47.125 21.3906 47.125 36.375 Q47.125 51.4219 43.2812 58.9062 Q39.4531 66.4062 31.7812 66.4062 M31.7812 74.2188 Q44.0469 74.2188 50.5156 64.5156 Q56.9844 54.8281 56.9844 36.375 Q56.9844 17.9688 50.5156 8.26562 Q44.0469 -1.42188 31.7812 -1.42188 Q19.5312 -1.42188 13.0625 8.26562 Q6.59375 17.9688 6.59375 36.375 Q6.59375 54.8281 13.0625 64.5156 Q19.5312 74.2188 31.7812 74.2188\" id=\"BitstreamVeraSans-Roman-30\"/>\n",
       "      </defs>\n",
       "      <g transform=\"translate(20.0115625 128.458125)scale(0.12 -0.12)\">\n",
       "       <use xlink:href=\"#BitstreamVeraSans-Roman-30\"/>\n",
       "      </g>\n",
       "     </g>\n",
       "    </g>\n",
       "    <g id=\"xtick_2\">\n",
       "     <g id=\"line2d_3\">\n",
       "      <g>\n",
       "       <use style=\"stroke:#000000;stroke-width:0.5;\" x=\"128.424375\" xlink:href=\"#m93b0483c22\" y=\"115.34\"/>\n",
       "      </g>\n",
       "     </g>\n",
       "     <g id=\"line2d_4\">\n",
       "      <g>\n",
       "       <use style=\"stroke:#000000;stroke-width:0.5;\" x=\"128.424375\" xlink:href=\"#m741efc42ff\" y=\"18.81\"/>\n",
       "      </g>\n",
       "     </g>\n",
       "     <g id=\"text_2\">\n",
       "      <!-- 1 -->\n",
       "      <defs>\n",
       "       <path d=\" M12.4062 8.29688 L28.5156 8.29688 L28.5156 63.9219 L10.9844 60.4062 L10.9844 69.3906 L28.4219 72.9062 L38.2812 72.9062 L38.2812 8.29688 L54.3906 8.29688 L54.3906 0 L12.4062 0 z \" id=\"BitstreamVeraSans-Roman-31\"/>\n",
       "      </defs>\n",
       "      <g transform=\"translate(125.82 128.458125)scale(0.12 -0.12)\">\n",
       "       <use xlink:href=\"#BitstreamVeraSans-Roman-31\"/>\n",
       "      </g>\n",
       "     </g>\n",
       "    </g>\n",
       "   </g>\n",
       "   <g id=\"matplotlib.axis_2\">\n",
       "    <g id=\"ytick_1\">\n",
       "     <g id=\"line2d_5\">\n",
       "      <defs>\n",
       "       <path d=\" M0 0 L4 0\" id=\"m728421d6d4\" style=\"stroke:#000000;stroke-width:0.5;\"/>\n",
       "      </defs>\n",
       "      <g>\n",
       "       <use style=\"stroke:#000000;stroke-width:0.5;\" x=\"23.035\" xlink:href=\"#m728421d6d4\" y=\"115.34\"/>\n",
       "      </g>\n",
       "     </g>\n",
       "     <g id=\"line2d_6\">\n",
       "      <defs>\n",
       "       <path d=\" M0 0 L-4 0\" id=\"mcb0005524f\" style=\"stroke:#000000;stroke-width:0.5;\"/>\n",
       "      </defs>\n",
       "      <g>\n",
       "       <use style=\"stroke:#000000;stroke-width:0.5;\" x=\"128.424375\" xlink:href=\"#mcb0005524f\" y=\"115.34\"/>\n",
       "      </g>\n",
       "     </g>\n",
       "     <g id=\"text_3\">\n",
       "      <!-- 0 -->\n",
       "      <g transform=\"translate(12.988125 118.65125)scale(0.12 -0.12)\">\n",
       "       <use xlink:href=\"#BitstreamVeraSans-Roman-30\"/>\n",
       "      </g>\n",
       "     </g>\n",
       "    </g>\n",
       "    <g id=\"ytick_2\">\n",
       "     <g id=\"line2d_7\">\n",
       "      <g>\n",
       "       <use style=\"stroke:#000000;stroke-width:0.5;\" x=\"23.035\" xlink:href=\"#m728421d6d4\" y=\"18.81\"/>\n",
       "      </g>\n",
       "     </g>\n",
       "     <g id=\"line2d_8\">\n",
       "      <g>\n",
       "       <use style=\"stroke:#000000;stroke-width:0.5;\" x=\"128.424375\" xlink:href=\"#mcb0005524f\" y=\"18.81\"/>\n",
       "      </g>\n",
       "     </g>\n",
       "     <g id=\"text_4\">\n",
       "      <!-- 1 -->\n",
       "      <g transform=\"translate(13.82625 22.12125)scale(0.12 -0.12)\">\n",
       "       <use xlink:href=\"#BitstreamVeraSans-Roman-31\"/>\n",
       "      </g>\n",
       "     </g>\n",
       "    </g>\n",
       "   </g>\n",
       "   <g id=\"patch_5\">\n",
       "    <path d=\" M23.035 18.81 L128.424 18.81\" style=\"fill:none;stroke:#000000;\"/>\n",
       "   </g>\n",
       "   <g id=\"patch_6\">\n",
       "    <path d=\" M128.424 115.34 L128.424 18.81\" style=\"fill:none;stroke:#000000;\"/>\n",
       "   </g>\n",
       "   <g id=\"patch_7\">\n",
       "    <path d=\" M23.035 115.34 L128.424 115.34\" style=\"fill:none;stroke:#000000;\"/>\n",
       "   </g>\n",
       "   <g id=\"patch_8\">\n",
       "    <path d=\" M23.035 115.34 L23.035 18.81\" style=\"fill:none;stroke:#000000;\"/>\n",
       "   </g>\n",
       "   <g id=\"text_5\">\n",
       "    <!-- $\\vec{A}$ -->\n",
       "    <defs>\n",
       "     <path d=\" M4.5 0 Q3.51562 0 3.51562 1.3125 Q3.90625 3.51562 4.78125 3.51562 Q8.84375 3.51562 11.7969 5.125 Q14.75 6.73438 16.8906 10.1094 Q17.0938 10.2969 17.0938 10.2969 L52.7812 70.5156 Q53.5625 71.5781 54.6875 71.5781 L56 71.5781 Q56.2969 71.5781 56.5938 71.4531 Q56.8906 71.3438 57.1094 71.0625 Q57.3281 70.7969 57.3281 70.5156 L63.375 5.90625 Q63.375 5.46875 63.8125 4.59375 Q64.7969 3.51562 71.2969 3.51562 Q72.3125 3.51562 72.3125 2.20312 Q71.9688 0.875 71.75 0.4375 Q71.5312 0 70.6094 0 L45.6094 0 Q44.6719 0 44.6719 1.3125 Q45.2188 3.51562 46 3.51562 Q53.9062 3.51562 54.3906 6.20312 L52.875 22.7031 L28.2188 22.7031 L20.2188 9.28125 Q19.4844 8.20312 19.4844 6.78125 Q19.4844 5.03125 21.1719 4.26562 Q22.8594 3.51562 24.9062 3.51562 Q25.875 3.51562 25.875 2.20312 Q25.5312 0.78125 25.3281 0.390625 Q25.1406 0 24.2188 0 z  M30.1719 26.2188 L52.4844 26.2188 L49.5156 58.5938 z \" id=\"Cmmi10-41\"/>\n",
       "     <path d=\" M20.0156 59.5156 Q19.2344 59.5156 18.7188 60.0938 Q18.2188 60.6875 18.2188 61.5312 Q18.2188 62.25 18.7188 62.8594 Q19.2344 63.4844 20.0156 63.4844 L55.4219 63.4844 Q52.7812 67.0469 52.7812 69.3906 Q52.7812 70.2656 53.3906 70.8281 Q54 71.3906 54.7812 71.3906 Q56.4531 71.3906 56.7812 69.8281 Q57.7656 65.5312 61.5312 63.1875 Q62.5 62.5469 62.5 61.5312 Q62.5 60.2969 61.5312 59.8125 Q55.8594 56.9844 52.3906 52.2969 Q52 51.6094 50.875 51.6094 Q50.1406 51.6094 49.5 52.1875 Q48.875 52.7812 48.875 53.6094 Q48.875 55.4219 53.7188 59.5156 z \" id=\"Cmmi10-7e\"/>\n",
       "    </defs>\n",
       "    <g transform=\"translate(35.681725 36.1854)scale(0.12 -0.12)\">\n",
       "     <use transform=\"translate(-3.21875 32.609375)\" xlink:href=\"#Cmmi10-7e\"/>\n",
       "     <use transform=\"translate(0.0 0.140625)\" xlink:href=\"#Cmmi10-41\"/>\n",
       "    </g>\n",
       "   </g>\n",
       "   <g id=\"text_6\">\n",
       "    <!-- $\\vec{B}$ -->\n",
       "    <defs>\n",
       "     <path d=\" M4.98438 0 Q4 0 4 1.3125 Q4.04688 1.5625 4.1875 2.14062 Q4.34375 2.73438 4.57812 3.125 Q4.82812 3.51562 5.32812 3.51562 Q8.15625 3.51562 10.25 3.65625 Q12.3594 3.8125 13.8125 4.20312 Q14.9844 4.64062 15.7188 6.89062 L29.3906 61.8125 Q29.5938 62.7969 29.5938 63.1875 Q29.5938 64.2656 28.4219 64.4062 Q26.5156 64.7969 21.1875 64.7969 Q20.2188 64.7969 20.2188 66.1094 Q20.2656 66.3594 20.4062 66.9688 Q20.5625 67.5781 20.8281 67.9375 Q21.0938 68.3125 21.4844 68.3125 L57.3281 68.3125 Q60.5938 68.3125 63.7969 67.5 Q67 66.7031 69.7031 64.9375 Q72.4062 63.1875 74 60.5625 Q75.5938 57.9531 75.5938 54.5 Q75.5938 50.7344 73.6562 47.5 Q71.7344 44.2812 68.6719 41.8906 Q65.625 39.5 62.0781 37.9531 Q58.5469 36.4219 54.6875 35.6875 Q57.4219 35.6875 60.2188 34.6094 Q63.0312 33.5469 65.2344 31.6875 Q67.4375 29.8281 68.7812 27.2344 Q70.125 24.6562 70.125 21.6875 Q70.125 15.6719 65.9219 10.6875 Q61.7188 5.71875 55.3438 2.85938 Q48.9688 0 43.0156 0 z  M23.3906 4.29688 Q23.3906 3.51562 26.8125 3.51562 L41.1094 3.51562 Q46 3.51562 50.4844 6.21875 Q54.9844 8.9375 57.6875 13.4219 Q60.4062 17.9219 60.4062 22.7969 Q60.4062 25.7812 59.1562 28.4375 Q57.9062 31.1094 55.5625 32.6406 Q53.2188 34.1875 50.2031 34.1875 L30.7188 34.1875 L23.7812 6.5 Q23.3906 5.125 23.3906 4.29688 M31.3906 36.8125 L46.5781 36.8125 Q51.375 36.8125 55.8906 39.25 Q60.4062 41.7031 63.25 45.8906 Q66.1094 50.0938 66.1094 54.7812 Q66.1094 59.125 63.3906 61.9531 Q60.6875 64.7969 56.3906 64.7969 L42.6719 64.7969 Q39.9844 64.7969 39.0625 64.2969 Q38.1406 63.8125 37.5 61.375 z \" id=\"Cmmi10-42\"/>\n",
       "    </defs>\n",
       "    <g transform=\"translate(107.3465 76.728)scale(0.12 -0.12)\">\n",
       "     <use transform=\"translate(-2.21875 29.609375)\" xlink:href=\"#Cmmi10-7e\"/>\n",
       "     <use transform=\"translate(0.0 0.40625)\" xlink:href=\"#Cmmi10-42\"/>\n",
       "    </g>\n",
       "   </g>\n",
       "   <g id=\"text_7\">\n",
       "    <!-- $\\theta$ -->\n",
       "    <defs>\n",
       "     <path d=\" M16.1094 -1.125 Q11.5781 -1.125 8.84375 2.1875 Q6.10938 5.51562 5.04688 10.2031 Q4 14.8906 4 19.4844 L4 19.5781 Q4 24.5625 4.95312 29.9219 Q5.90625 35.2969 7.70312 40.6406 Q9.51562 46 11.625 50.2031 Q13.0938 53.125 15.4062 56.7344 Q17.7188 60.3594 20.5781 63.5 Q23.4375 66.6562 26.7344 68.5781 Q30.0312 70.5156 33.4062 70.5156 L33.5 70.5156 Q37.1094 70.5156 39.5156 68.5 Q41.9375 66.5 43.2812 63.375 Q44.625 60.25 45.1562 56.6875 Q45.7031 53.125 45.7031 49.9062 Q45.7031 42.3281 43.6562 34.4375 Q41.6094 26.5625 37.9844 19.1875 Q36.625 16.4062 34.2031 12.6406 Q31.7812 8.89062 29.0781 5.90625 Q26.375 2.9375 23 0.90625 Q19.625 -1.125 16.2188 -1.125 z  M16.3125 1.51562 Q19.625 1.51562 22.6719 5.04688 Q25.7344 8.59375 28.0312 13.6406 Q30.3281 18.7031 32.0625 24 Q33.7969 29.2969 34.625 33.0156 L14.2031 33.0156 Q12.6406 26.7031 11.7656 22.1406 Q10.8906 17.5781 10.8906 13.1875 Q10.8906 1.51562 16.3125 1.51562 M14.9844 36.5312 L35.5 36.5312 Q36.5781 40.9219 37.2031 43.875 Q37.8438 46.8281 38.2812 50.0938 Q38.7188 53.375 38.7188 56.2031 Q38.7188 67.9219 33.4062 67.9219 Q27.0469 67.9219 22.4375 57.6875 Q17.8281 47.4688 14.9844 36.5312\" id=\"Cmmi10-b5\"/>\n",
       "    </defs>\n",
       "    <g transform=\"translate(86.268625 57.422)scale(0.12 -0.12)\">\n",
       "     <use transform=\"translate(0.0 0.484375)\" xlink:href=\"#Cmmi10-b5\"/>\n",
       "    </g>\n",
       "   </g>\n",
       "   <g id=\"patch_9\">\n",
       "    <path d=\" M97.0192 77.7515 Q77.0739 47.3547 42.5136 43.669\" style=\"fill:none;stroke:#808080;stroke-linecap:round;stroke-width:2;\"/>\n",
       "    <path d=\" M47.9707 49.0782 L42.5136 43.669 L48.9888 39.5323\" style=\"fill:none;stroke:#808080;stroke-linecap:round;stroke-width:2;\"/>\n",
       "   </g>\n",
       "  </g>\n",
       " </g>\n",
       " <defs>\n",
       "  <clipPath id=\"peb577d8c7e\">\n",
       "   <rect height=\"96.53\" width=\"105.389375\" x=\"23.035\" y=\"18.81\"/>\n",
       "  </clipPath>\n",
       " </defs>\n",
       "</svg>"
      ],
      "text/plain": [
       "<IPython.core.display.SVG object>"
      ]
     },
     "metadata": {},
     "output_type": "display_data"
    },
    {
     "data": {
      "text/latex": [
       "$$cosD(A,B)=1-cos(\\theta), \\quad 0 \\le cosD(A,B) \\le 1$$"
      ],
      "text/plain": [
       "<IPython.core.display.Math object>"
      ]
     },
     "metadata": {},
     "output_type": "display_data"
    },
    {
     "name": "stdout",
     "output_type": "stream",
     "text": [
      "\n",
      "cosD(C.jejuni, H.pylori) = 0.1133\n"
     ]
    },
    {
     "data": {
      "text/html": [
       "<h2>Euclidean Distance</h2><hr>"
      ],
      "text/plain": [
       "<IPython.core.display.HTML object>"
      ]
     },
     "metadata": {},
     "output_type": "display_data"
    },
    {
     "name": "stdout",
     "output_type": "stream",
     "text": [
      "Distance between two vectors.\n",
      "\n"
     ]
    },
    {
     "data": {
      "text/latex": [
       "$$euclidean(A,B)=\\|A-B\\|_2, \\quad 0 \\le cosD(A,B) < \\infty$$"
      ],
      "text/plain": [
       "<IPython.core.display.Math object>"
      ]
     },
     "metadata": {},
     "output_type": "display_data"
    },
    {
     "name": "stdout",
     "output_type": "stream",
     "text": [
      "\n",
      "euclidean(C.jejuni, H.pylori) = 15039.5047\n",
      "euclidean(C.jejuni, H.pylori) = 0.4760 using unit vectors\n"
     ]
    }
   ],
   "source": [
    "# Calculate Distance\n",
    "\n",
    "# Pull out the frequency counts for\n",
    "# Campylobacter_jejuni_4031 and Helicobacter_pylori_2017\n",
    "cJejuni = genomeKmerFreqs[0][1]\n",
    "hPylori = genomeKmerFreqs[2][1]\n",
    "\n",
    "from scipy.spatial.distance import jaccard, correlation, cosine, euclidean\n",
    "\n",
    "def pp(text):\n",
    "    display(HTML(\"<h2>%s</h2><hr>\"%(text)))\n",
    "\n",
    "pp(\"Jaccard Distance\")\n",
    "print(\"A metric for quantifying set similarity.\\n\")\n",
    "display(Math(r'JD(A,B)=1-\\frac{|A \\cap B|}{|A \\cup B|}, \\quad 0 \\le JD(A,B) \\le 1'))\n",
    "print(\"\\nJ(C.jejuni, H.pylori) = %.4f\"%(jaccard(cJejuni, hPylori)))\n",
    "\n",
    "pp(\"Correlation Distance\")\n",
    "print(\"Distance metric based on correlation coefficient.\\n\")\n",
    "display(Math(r'corrD(A,B)= 1 - \\frac{(u - \\bar{u}) \\dot (v - \\bar{v})}{{\\|(u - \\bar{u})\\|}_2\\\n",
    "{\\|(v - \\bar{v})\\|}_2}, \\quad 0 \\le corrD(A,B) \\le 2'))\n",
    "print(\"\\ncorrD(C.jejuni, H.pylori) = %.4f\"%(correlation(cJejuni, hPylori)))\n",
    "\n",
    "pp(\"Cosine Distance\")\n",
    "print(\"Angular distance between two vectors.\")\n",
    "display(SVG('cosine_distance.svg'))\n",
    "display(Math(r'cosD(A,B)=1-cos(\\theta), \\quad 0 \\le cosD(A,B) \\le 1'))\n",
    "print(\"\\ncosD(C.jejuni, H.pylori) = %.4f\"%(cosine(cJejuni, hPylori)))\n",
    "\n",
    "pp(\"Euclidean Distance\")\n",
    "print(\"Distance between two vectors.\\n\")\n",
    "display(Math(r'euclidean(A,B)=\\|A-B\\|_2, \\quad 0 \\le cosD(A,B) < \\infty'))\n",
    "print(\"\\neuclidean(C.jejuni, H.pylori) = %.4f\"%(euclidean(cJejuni, hPylori)))\n",
    "print('euclidean(C.jejuni, H.pylori) = %.4f using unit vectors'%\\\n",
    "    (euclidean(cJejuni/np.linalg.norm(cJejuni),\\\n",
    "    hPylori/np.linalg.norm(hPylori))))"
   ]
  },
  {
   "cell_type": "code",
   "execution_count": 13,
   "metadata": {
    "collapsed": false
   },
   "outputs": [
    {
     "data": {
      "image/png": "[encoded data removed]",
      "text/plain": [
       "<matplotlib.figure.Figure at 0x7f43a9b99d68>"
      ]
     },
     "metadata": {},
     "output_type": "display_data"
    }
   ],
   "source": [
    "# Use scipy to calculate distance and plot relationships as a tree\n",
    "\n",
    "names = map(lambda x: x[0], genomeKmerFreqs) # Pull out the names for labels\n",
    "freqs = map(lambda x: x[1], genomeKmerFreqs) # Pull out the frequencies\n",
    "\n",
    "Z = linkage(list(freqs), method='complete', metric='cosine')\n",
    "plt.figure(figsize=(10,5))\n",
    "dendrogram(Z, labels=list(names), orientation='left')\n",
    "plt.tight_layout(rect=[0,0,1,1])\n",
    "plt.show()"
   ]
  },
  {
   "cell_type": "code",
   "execution_count": null,
   "metadata": {
    "collapsed": true
   },
   "outputs": [],
   "source": []
  },
  {
   "cell_type": "code",
   "execution_count": null,
   "metadata": {
    "collapsed": true
   },
   "outputs": [],
   "source": []
  }
 ],
 "metadata": {
  "kernelspec": {
   "display_name": "Python 3",
   "language": "python",
   "name": "python3"
  },
  "language_info": {
   "codemirror_mode": {
    "name": "ipython",
    "version": 3
   },
   "file_extension": ".py",
   "mimetype": "text/x-python",
   "name": "python",
   "nbconvert_exporter": "python",
   "pygments_lexer": "ipython3",
   "version": "3.4.3"
  }
 },
 "nbformat": 4,
 "nbformat_minor": 0
}
