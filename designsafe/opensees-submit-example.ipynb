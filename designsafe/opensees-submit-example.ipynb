{
 "cells": [
  {
   "cell_type": "markdown",
   "metadata": {},
   "source": [
    "In this notebook, we demonstrate how to use the agavepy package to submit and monitor a job to run the opensees application on Stampede.  \n",
    "\n",
    "First, we need to import the Agave class from the agavepy package."
   ]
  },
  {
   "cell_type": "code",
   "execution_count": 3,
   "metadata": {},
   "outputs": [],
   "source": [
    "from agavepy.agave import Agave"
   ]
  },
  {
   "cell_type": "markdown",
   "metadata": {},
   "source": [
    "With the Agave class imported, we can now instantiate our client. Typically, this would involve passing your OAuth credentials, but because we are in a notebook on JupyterHub, we can use the \"restore\" shortcut to create a client with credentials already saved for us behind the scenes."
   ]
  },
  {
   "cell_type": "code",
   "execution_count": 21,
   "metadata": {},
   "outputs": [],
   "source": [
    "ag = Agave.restore()"
   ]
  },
  {
   "cell_type": "markdown",
   "metadata": {},
   "source": [
    "With our client instantiated, we have the full Agave API at our disposal. For example, we can look up the OpenSees application and get specific information about its configuration if we know the application id. "
   ]
  },
  {
   "cell_type": "code",
   "execution_count": 47,
   "metadata": {},
   "outputs": [],
   "source": [
    "app_id = 'opensees-docker-2.5.0.6248u2'"
   ]
  },
  {
   "cell_type": "code",
   "execution_count": 54,
   "metadata": {},
   "outputs": [],
   "source": [
    "app = ag.apps.get(appId=app_id)"
   ]
  },
  {
   "cell_type": "markdown",
   "metadata": {},
   "source": [
    "The app object has lots of useful attributes describing the OpenSees application. Two, of particular interest, are the inputs (files and/or directories required by the application) and parameters (flags, switches and other options controlling application execution) that are involved when submitting a job.\n",
    "\n",
    "Let's look at both, starting with the inputs."
   ]
  },
  {
   "cell_type": "code",
   "execution_count": 55,
   "metadata": {},
   "outputs": [
    {
     "data": {
      "text/plain": [
       "[{u'details': {u'argument': None,\n",
       "   u'description': u\"The directory containing your OpenSees input files as well as your OpenSees TCL script. You can drag the link for the directory from the Data Browser on the left, or click the 'Select Input' button and then select the directory. To try out sample data copy and paste 'agave://designsafe.storage.default/mock/examples/opensees/FreefieldAnalysisEffective' above.\",\n",
       "   u'label': u'Input Directory',\n",
       "   u'repeatArgument': False,\n",
       "   u'showArgument': False},\n",
       "  u'id': u'inputDirectory',\n",
       "  u'semantics': {u'fileTypes': [u'raw-0'],\n",
       "   u'maxCardinality': 1,\n",
       "   u'minCardinality': 1,\n",
       "   u'ontology': [u'xsd:string']},\n",
       "  u'value': {u'default': u'agave://designsafe.storage.default/mock/FreefieldAnalysis-Effective',\n",
       "   u'enquote': False,\n",
       "   u'order': 0,\n",
       "   u'required': True,\n",
       "   u'validator': u'',\n",
       "   u'visible': True}}]"
      ]
     },
     "execution_count": 55,
     "metadata": {},
     "output_type": "execute_result"
    }
   ],
   "source": [
    "app.inputs"
   ]
  },
  {
   "cell_type": "markdown",
   "metadata": {},
   "source": [
    "The inputs object is a list, in this case of exactly one input."
   ]
  },
  {
   "cell_type": "code",
   "execution_count": 50,
   "metadata": {},
   "outputs": [
    {
     "data": {
      "text/plain": [
       "[{u'details': {u'argument': None,\n",
       "   u'description': u\"The filename only of the OpenSees TCL script to execute. This file should reside in the Input Directory specified. To try this out copy and paste in 'freeFieldEffective.tcl'.\",\n",
       "   u'label': u'TCL Script',\n",
       "   u'repeatArgument': False,\n",
       "   u'showArgument': False},\n",
       "  u'id': u'inputScript',\n",
       "  u'semantics': {u'maxCardinality': 1,\n",
       "   u'minCardinality': 1,\n",
       "   u'ontology': [u'http://sswapmeet.sswap.info/mime/text/Tcl']},\n",
       "  u'value': {u'default': u'freeFieldEffective.tcl',\n",
       "   u'enquote': False,\n",
       "   u'order': 0,\n",
       "   u'required': True,\n",
       "   u'type': u'string',\n",
       "   u'validator': u'([^\\\\s]+(\\\\.(?i)(tcl))$)',\n",
       "   u'visible': True}}]"
      ]
     },
     "execution_count": 50,
     "metadata": {},
     "output_type": "execute_result"
    }
   ],
   "source": [
    "app.parameters"
   ]
  },
  {
   "cell_type": "markdown",
   "metadata": {},
   "source": [
    "Similarly, the parameters object is a list, and it contains one parameter."
   ]
  },
  {
   "cell_type": "markdown",
   "metadata": {},
   "source": [
    "We see that for this version of OpenSees, one input and one parameter are available, and both are required. The input, inputDirectory, is the directory containing our OpenSees input files, and the parameter, inputScript, is filename only of the OpenSees TCL script to execute. We know are ready to submit a job."
   ]
  },
  {
   "cell_type": "markdown",
   "metadata": {},
   "source": [
    "To illustrate launching a job to run OpenSees, we are going to use an example directory that lives on the DesignSafe default storage system and a specific tcl file in that directory. You will replace these with your own directory and file.\n",
    "\n",
    "In order to submit a job to Agave, you create a dictionary containing a description of the job. There are many required and optional attributes, but the description below provides a minimal example. Here we are defining:\n",
    "- jobName: a name for our job, can be anything.\n",
    "- appId: the id of the application we want to run; in this case, the id of the OpenSees app.\n",
    "- executionSystem: the system where we are running opensees.\n",
    "- batchQueue: the queue to run in.\n",
    "- nodeCount: how many nodes on the execution system we want to use for our job.\n",
    "- memoryPerNode: Amount of memory needed per node (in GB) for this application to run.\n",
    "- archive: Whether we want Agave to archive the outputs back to our storage system when we are done. In this case, we do want that.\n",
    "- retries: How many times we want Agave to retry the job submission in case of failures.\n",
    "- inputs: Here we provide a dictionary describing the inputs we want to use. The dictionary should have one key for each input and the key should be the input's id attribute. The value should be a list of files or directories, as required by the input (some inputs take multiple values). In our case, we have only one input with id \"inputDirectory\" and we will use a list with a single value referencing our directory.\n",
    "- parameters: like inputs, the parameters should be a dictionary with a key for each parameter (the parameter id). The value's type depends on the parameter -- it could be string, int, list, etc. In our case, we have just one parameter with id \"inputScript\", and the value should be a string containing the name of the file.\n",
    "\n",
    "Here is the full job description dictionary:"
   ]
  },
  {
   "cell_type": "code",
   "execution_count": 51,
   "metadata": {},
   "outputs": [],
   "source": [
    "job_description = {\n",
    "    \"jobName\": \"opensees-ex\",\n",
    "    \"appId\" : \"opensees-docker-2.5.0.6248\",\n",
    "    \"executionSystem\" : \"designsafe.community.data-01\",\n",
    "    \"batchQueue\" : \"debug\",\n",
    "    \"nodeCount\" : 1,\n",
    "    \"processorsPerNode\" : 1,\n",
    "    \"memoryPerNode\" : 1.0,\n",
    "    \"maxRunTime\" : \"00:30:00\",\n",
    "    \"archive\" : True,\n",
    "    \"retries\" : 0,\n",
    "    \"inputs\" : {\n",
    "      \"inputDirectory\" : [ \"agave://designsafe.storage.default/mock/examples/opensees/FreefieldAnalysisEffective\" ]\n",
    "    },\n",
    "    \"parameters\" : {\n",
    "      \"inputScript\" : \"freeFieldEffective.tcl\"\n",
    "    }\n",
    "}"
   ]
  },
  {
   "cell_type": "markdown",
   "metadata": {},
   "source": [
    "We are now ready to submit our job:"
   ]
  },
  {
   "cell_type": "code",
   "execution_count": 56,
   "metadata": {},
   "outputs": [],
   "source": [
    "job = ag.jobs.submit(body=job_description)"
   ]
  },
  {
   "cell_type": "markdown",
   "metadata": {},
   "source": [
    "Note that Agave returns a response (almost) immediately, and we've stored the response in an object called job. This doesn't mean our job is finished (or even that it has started). It just means Agave has received our request and has queued up work to launch our job. The job object has information we can use to get details about the status of our job."
   ]
  },
  {
   "cell_type": "markdown",
   "metadata": {},
   "source": [
    "We can also use agavepy's async module to inspect the job's status:"
   ]
  },
  {
   "cell_type": "code",
   "execution_count": 58,
   "metadata": {},
   "outputs": [],
   "source": [
    "from agavepy.async import AgaveAsyncResponse"
   ]
  },
  {
   "cell_type": "markdown",
   "metadata": {},
   "source": [
    "First, import the module and then create an AgaveAsyncResponse object by passing in our AGave client and the job object. Note that we could also use this approach to manage other kinds of asynchronous responses from Agave, such as file transfer responses."
   ]
  },
  {
   "cell_type": "code",
   "execution_count": 61,
   "metadata": {},
   "outputs": [],
   "source": [
    "asrp = AgaveAsyncResponse(ag, job)"
   ]
  },
  {
   "cell_type": "markdown",
   "metadata": {},
   "source": [
    "Using the asrp object, we can check whether the job is done:"
   ]
  },
  {
   "cell_type": "code",
   "execution_count": 62,
   "metadata": {},
   "outputs": [
    {
     "data": {
      "text/plain": [
       "True"
      ]
     },
     "execution_count": 62,
     "metadata": {},
     "output_type": "execute_result"
    }
   ],
   "source": [
    "asrp.done()"
   ]
  },
  {
   "cell_type": "markdown",
   "metadata": {},
   "source": [
    "The done() method returns either True or False immediately. If we want to just programmatically wait for the job to finish, we can do that using the result() method. The result() method takes an optional timeout paramter."
   ]
  },
  {
   "cell_type": "code",
   "execution_count": 63,
   "metadata": {},
   "outputs": [
    {
     "data": {
      "text/plain": [
       "'FINISHED'"
      ]
     },
     "execution_count": 63,
     "metadata": {},
     "output_type": "execute_result"
    }
   ],
   "source": [
    "asrp.result()"
   ]
  },
  {
   "cell_type": "markdown",
   "metadata": {},
   "source": [
    "Once the job is done, the output should be archived and waiting for us. We can check all the details of the job be retrieving it using the jobs service:"
   ]
  },
  {
   "cell_type": "code",
   "execution_count": 64,
   "metadata": {},
   "outputs": [
    {
     "data": {
      "text/plain": [
       "{u'_links': {u'app': {u'href': u'https://agave.designsafe-ci.org/apps/v2/opensees-docker-2.5.0.6248'},\n",
       "  u'archiveData': {u'href': u'https://agave.designsafe-ci.org/files/v2/listings/system/designsafe.storage.default/envision/archive/jobs/job-2740144125295268326-242ac114-0001-007'},\n",
       "  u'archiveSystem': {u'href': u'https://agave.designsafe-ci.org/systems/v2/designsafe.storage.default'},\n",
       "  u'executionSystem': {u'href': u'https://agave.designsafe-ci.org/systems/v2/designsafe.community.data-01'},\n",
       "  u'history': {u'href': u'https://agave.designsafe-ci.org/jobs/v2/2740144125295268326-242ac114-0001-007/history'},\n",
       "  u'metadata': {u'href': u'https://agave.designsafe-ci.org/meta/v2/data/?q=%7B%22associationIds%22%3A%222740144125295268326-242ac114-0001-007%22%7D'},\n",
       "  u'notifications': {u'href': u'https://agave.designsafe-ci.org/notifications/v2/?associatedUuid=2740144125295268326-242ac114-0001-007'},\n",
       "  u'owner': {u'href': u'https://agave.designsafe-ci.org/profiles/v2/envision'},\n",
       "  u'permissions': {u'href': u'https://agave.designsafe-ci.org/jobs/v2/2740144125295268326-242ac114-0001-007/pems'},\n",
       "  u'self': {u'href': u'https://agave.designsafe-ci.org/jobs/v2/2740144125295268326-242ac114-0001-007'}},\n",
       " u'appId': u'opensees-docker-2.5.0.6248',\n",
       " u'archive': True,\n",
       " u'archivePath': u'envision/archive/jobs/job-2740144125295268326-242ac114-0001-007',\n",
       " u'archiveSystem': u'designsafe.storage.default',\n",
       " u'batchQueue': u'debug',\n",
       " u'created': u'2016-08-18T22:11:52.000-05:00',\n",
       " u'endTime': datetime.datetime(2016, 8, 18, 19, 13, 26, tzinfo=tzoffset(None, -18000)),\n",
       " u'executionSystem': u'designsafe.community.data-01',\n",
       " u'id': u'2740144125295268326-242ac114-0001-007',\n",
       " u'inputs': {u'inputDirectory': [u'agave://designsafe.storage.default/mock/examples/opensees/FreefieldAnalysisEffective']},\n",
       " u'localId': u'16777',\n",
       " u'maxRunTime': u'00:30:00',\n",
       " u'memoryPerNode': 1.0,\n",
       " u'name': u'opensees-ex',\n",
       " u'nodeCount': 1,\n",
       " u'outputPath': u'envision/job-2740144125295268326-242ac114-0001-007-opensees-ex',\n",
       " u'owner': u'envision',\n",
       " u'parameters': {u'inputScript': u'freeFieldEffective.tcl'},\n",
       " u'processorsPerNode': 1,\n",
       " u'retries': 0,\n",
       " u'startTime': datetime.datetime(2016, 8, 18, 20, 12, 23, tzinfo=tzoffset(None, -18000)),\n",
       " u'status': u'FINISHED',\n",
       " u'submitTime': datetime.datetime(2016, 8, 18, 21, 12, 21, tzinfo=tzoffset(None, -18000))}"
      ]
     },
     "execution_count": 64,
     "metadata": {},
     "output_type": "execute_result"
    }
   ],
   "source": [
    "ag.jobs.get(jobId=job.id)"
   ]
  },
  {
   "cell_type": "markdown",
   "metadata": {},
   "source": [
    "The archivePath shows us where Agave saved our results. Let's look at what's there:"
   ]
  },
  {
   "cell_type": "code",
   "execution_count": 68,
   "metadata": {},
   "outputs": [
    {
     "data": {
      "text/plain": [
       "[{u'_links': {u'history': {u'href': u'https://agave.designsafe-ci.org/files/v2/history/system/designsafe.storage.default///envision/archive/jobs/job-2740144125295268326-242ac114-0001-007'},\n",
       "   u'metadata': {u'href': u'https://agave.designsafe-ci.org/meta/v2/data?q=%7B%22associationIds%22%3A%222042590382148817382-242ac113-0001-002%22%7D'},\n",
       "   u'self': {u'href': u'https://agave.designsafe-ci.org/files/v2/media/system/designsafe.storage.default///envision/archive/jobs/job-2740144125295268326-242ac114-0001-007'},\n",
       "   u'system': {u'href': u'https://agave.designsafe-ci.org/systems/v2/designsafe.storage.default'}},\n",
       "  u'format': u'folder',\n",
       "  u'lastModified': datetime.datetime(2016, 8, 18, 18, 13, 25, tzinfo=tzoffset(None, -18000)),\n",
       "  u'length': 32768,\n",
       "  u'mimeType': u'text/directory',\n",
       "  u'name': u'.',\n",
       "  u'path': u'//envision/archive/jobs/job-2740144125295268326-242ac114-0001-007',\n",
       "  u'permissions': u'ALL',\n",
       "  u'system': u'designsafe.storage.default',\n",
       "  u'type': u'dir'},\n",
       " {u'_links': {u'self': {u'href': u'https://agave.designsafe-ci.org/files/v2/media/system/designsafe.storage.default//envision/archive/jobs/job-2740144125295268326-242ac114-0001-007/FreefieldAnalysisEffective'},\n",
       "   u'system': {u'href': u'https://agave.designsafe-ci.org/systems/v2/designsafe.storage.default'}},\n",
       "  u'format': u'folder',\n",
       "  u'lastModified': datetime.datetime(2016, 8, 18, 18, 13, 24, tzinfo=tzoffset(None, -18000)),\n",
       "  u'length': 32768,\n",
       "  u'mimeType': u'text/directory',\n",
       "  u'name': u'FreefieldAnalysisEffective',\n",
       "  u'path': u'/envision/archive/jobs/job-2740144125295268326-242ac114-0001-007/FreefieldAnalysisEffective',\n",
       "  u'permissions': u'ALL',\n",
       "  u'system': u'designsafe.storage.default',\n",
       "  u'type': u'dir'},\n",
       " {u'_links': {u'self': {u'href': u'https://agave.designsafe-ci.org/files/v2/media/system/designsafe.storage.default//envision/archive/jobs/job-2740144125295268326-242ac114-0001-007/opensees-ex.err'},\n",
       "   u'system': {u'href': u'https://agave.designsafe-ci.org/systems/v2/designsafe.storage.default'}},\n",
       "  u'format': u'raw',\n",
       "  u'lastModified': datetime.datetime(2016, 8, 18, 18, 13, 24, tzinfo=tzoffset(None, -18000)),\n",
       "  u'length': 1681987,\n",
       "  u'mimeType': u'application/octet-stream',\n",
       "  u'name': u'opensees-ex.err',\n",
       "  u'path': u'/envision/archive/jobs/job-2740144125295268326-242ac114-0001-007/opensees-ex.err',\n",
       "  u'permissions': u'READ_WRITE',\n",
       "  u'system': u'designsafe.storage.default',\n",
       "  u'type': u'file'},\n",
       " {u'_links': {u'self': {u'href': u'https://agave.designsafe-ci.org/files/v2/media/system/designsafe.storage.default//envision/archive/jobs/job-2740144125295268326-242ac114-0001-007/opensees-ex.out'},\n",
       "   u'system': {u'href': u'https://agave.designsafe-ci.org/systems/v2/designsafe.storage.default'}},\n",
       "  u'format': u'raw',\n",
       "  u'lastModified': datetime.datetime(2016, 8, 18, 18, 13, 24, tzinfo=tzoffset(None, -18000)),\n",
       "  u'length': 112,\n",
       "  u'mimeType': u'application/octet-stream',\n",
       "  u'name': u'opensees-ex.out',\n",
       "  u'path': u'/envision/archive/jobs/job-2740144125295268326-242ac114-0001-007/opensees-ex.out',\n",
       "  u'permissions': u'READ_WRITE',\n",
       "  u'system': u'designsafe.storage.default',\n",
       "  u'type': u'file'},\n",
       " {u'_links': {u'self': {u'href': u'https://agave.designsafe-ci.org/files/v2/media/system/designsafe.storage.default//envision/archive/jobs/job-2740144125295268326-242ac114-0001-007/opensees-ex.pid'},\n",
       "   u'system': {u'href': u'https://agave.designsafe-ci.org/systems/v2/designsafe.storage.default'}},\n",
       "  u'format': u'raw',\n",
       "  u'lastModified': datetime.datetime(2016, 8, 18, 18, 13, 25, tzinfo=tzoffset(None, -18000)),\n",
       "  u'length': 6,\n",
       "  u'mimeType': u'application/octet-stream',\n",
       "  u'name': u'opensees-ex.pid',\n",
       "  u'path': u'/envision/archive/jobs/job-2740144125295268326-242ac114-0001-007/opensees-ex.pid',\n",
       "  u'permissions': u'READ_WRITE',\n",
       "  u'system': u'designsafe.storage.default',\n",
       "  u'type': u'file'}]"
      ]
     },
     "execution_count": 68,
     "metadata": {},
     "output_type": "execute_result"
    }
   ],
   "source": [
    "ag.files.listOnDefaultSystem(filePath='envision/archive/jobs/job-2740144125295268326-242ac114-0001-007')"
   ]
  },
  {
   "cell_type": "markdown",
   "metadata": {},
   "source": [
    "Cool! It looks like all our output files are there. Now we're ready to explore the outputs and move on to the next phase of our analysis."
   ]
  }
 ],
 "metadata": {
  "kernelspec": {
   "display_name": "Python 2",
   "language": "python",
   "name": "python2"
  },
  "language_info": {
   "codemirror_mode": {
    "name": "ipython",
    "version": 2
   },
   "file_extension": ".py",
   "mimetype": "text/x-python",
   "name": "python",
   "nbconvert_exporter": "python",
   "pygments_lexer": "ipython2",
   "version": "2.7.12"
  }
 },
 "nbformat": 4,
 "nbformat_minor": 0
}
