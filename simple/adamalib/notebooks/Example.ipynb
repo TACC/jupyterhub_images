{
 "cells": [
  {
   "cell_type": "markdown",
   "metadata": {},
   "source": [
    "# Using Adamalib\n",
    "\n",
    "This notebook shows an example of using [adamalib]() to control [Adama]()."
   ]
  },
  {
   "cell_type": "markdown",
   "metadata": {},
   "source": [
    "## Setup"
   ]
  },
  {
   "cell_type": "markdown",
   "metadata": {},
   "source": [
    "First, define the location of the Adama server.\n",
    "\n",
    "The official server is: \n",
    "\n",
    "> https://api.araport.org/community/v0.3\n",
    "    \n",
    "For a development environment the URL may differ (for example: `http://localhost/community/v0.3`).  Use a URL such that `URL/status` reaches the `status` endpoint of your server."
   ]
  },
  {
   "cell_type": "code",
   "execution_count": 29,
   "metadata": {
    "collapsed": true
   },
   "outputs": [],
   "source": [
    "API = 'http://192.168.35.10/community/v0.3'"
   ]
  },
  {
   "cell_type": "markdown",
   "metadata": {},
   "source": [
    "The official Adama server requires a bearer token, but other test services may not need it. Leave it empty in such case."
   ]
  },
  {
   "cell_type": "code",
   "execution_count": 30,
   "metadata": {
    "collapsed": true
   },
   "outputs": [],
   "source": [
    "TOKEN = 'mytoken'"
   ]
  },
  {
   "cell_type": "markdown",
   "metadata": {},
   "source": [
    "Create an `adama` object bound to the API server:"
   ]
  },
  {
   "cell_type": "code",
   "execution_count": 31,
   "metadata": {
    "collapsed": false
   },
   "outputs": [],
   "source": [
    "import adamalib\n",
    "reload(adamalib.adamalib)\n",
    "adama = adamalib.Adama(API, token=TOKEN)"
   ]
  },
  {
   "cell_type": "markdown",
   "metadata": {},
   "source": [
    "Check that the object is correctly linked by asking the status of the server. This is equivalent to performing a `GET` request to the endpoint `API/status`.  It should return a dictionary of the form:\n",
    "```python\n",
    "{u'api': u'Adama v0.3',\n",
    " u'hash': u'...',\n",
    " u'status': u'success'}\n",
    "```"
   ]
  },
  {
   "cell_type": "code",
   "execution_count": 32,
   "metadata": {
    "collapsed": false
   },
   "outputs": [
    {
     "data": {
      "text/plain": [
       "{u'api': u'Adama v0.3',\n",
       " u'hash': u'53bb1fc25b19b7c253f21ad1e518d30d88179a4f',\n",
       " u'status': u'success'}"
      ]
     },
     "execution_count": 32,
     "metadata": {},
     "output_type": "execute_result"
    }
   ],
   "source": [
    "adama.status"
   ]
  },
  {
   "cell_type": "markdown",
   "metadata": {},
   "source": [
    "## Namespaces"
   ]
  },
  {
   "cell_type": "markdown",
   "metadata": {},
   "source": [
    "Namespaces are accessed with the property `namespaces`.  It returns a list of namespace objects, each of them can be queried for its information:"
   ]
  },
  {
   "cell_type": "code",
   "execution_count": 33,
   "metadata": {
    "collapsed": false
   },
   "outputs": [
    {
     "data": {
      "text/plain": [
       "[Namespace(ex_ea),\n",
       " Namespace(quia_sunt),\n",
       " Namespace(foo),\n",
       " Namespace(copulationesque_primum),\n",
       " Namespace(pleraque_pleraque),\n",
       " Namespace(quarum_quia),\n",
       " Namespace(quam_quae),\n",
       " Namespace(sunt_tuum),\n",
       " Namespace(reges_fecimus)]"
      ]
     },
     "execution_count": 33,
     "metadata": {},
     "output_type": "execute_result"
    }
   ],
   "source": [
    "adama.namespaces"
   ]
  },
  {
   "cell_type": "markdown",
   "metadata": {},
   "source": [
    "Let's create a new random namespace."
   ]
  },
  {
   "cell_type": "markdown",
   "metadata": {},
   "source": [
    "First, a detour for a simple function to generate random names, so we don't overwrite existing ones (not likely, at least):"
   ]
  },
  {
   "cell_type": "code",
   "execution_count": 34,
   "metadata": {
    "collapsed": false
   },
   "outputs": [],
   "source": [
    "import requests\n",
    "import string\n",
    "import random\n",
    "\n",
    "lorem = requests.get('http://loripsum.net/api/plaintext').text\n",
    "WORDS = [word.lower() \n",
    "         for word in filter(lambda c: c not in string.punctuation, lorem).split()]\n",
    "\n",
    "def random_words(n=2):\n",
    "    return '_'.join(random.choice(WORDS) for i in range(n))"
   ]
  },
  {
   "cell_type": "markdown",
   "metadata": {},
   "source": [
    "Create a namespace with a random name:"
   ]
  },
  {
   "cell_type": "code",
   "execution_count": 35,
   "metadata": {
    "collapsed": false
   },
   "outputs": [
    {
     "data": {
      "text/plain": [
       "Namespace(liberius_et)"
      ]
     },
     "execution_count": 35,
     "metadata": {},
     "output_type": "execute_result"
    }
   ],
   "source": [
    "namespace = adama.namespaces.add(name=random_words())\n",
    "namespace"
   ]
  },
  {
   "cell_type": "markdown",
   "metadata": {
    "collapsed": true
   },
   "source": [
    "The new namespace should appear if we ask again:"
   ]
  },
  {
   "cell_type": "code",
   "execution_count": 36,
   "metadata": {
    "collapsed": false
   },
   "outputs": [
    {
     "data": {
      "text/plain": [
       "[Namespace(ex_ea),\n",
       " Namespace(quia_sunt),\n",
       " Namespace(foo),\n",
       " Namespace(copulationesque_primum),\n",
       " Namespace(pleraque_pleraque),\n",
       " Namespace(quarum_quia),\n",
       " Namespace(quam_quae),\n",
       " Namespace(sunt_tuum),\n",
       " Namespace(liberius_et),\n",
       " Namespace(reges_fecimus)]"
      ]
     },
     "execution_count": 36,
     "metadata": {},
     "output_type": "execute_result"
    }
   ],
   "source": [
    "adama.namespaces"
   ]
  },
  {
   "cell_type": "markdown",
   "metadata": {},
   "source": [
    "A particular namespace, say `foo`, can be accessed directly as `adama.foo`."
   ]
  },
  {
   "cell_type": "markdown",
   "metadata": {},
   "source": [
    "## Services"
   ]
  },
  {
   "cell_type": "markdown",
   "metadata": {},
   "source": [
    "List the services contained in a namespace with:"
   ]
  },
  {
   "cell_type": "code",
   "execution_count": 37,
   "metadata": {
    "collapsed": false
   },
   "outputs": [
    {
     "data": {
      "text/plain": [
       "[]"
      ]
     },
     "execution_count": 37,
     "metadata": {},
     "output_type": "execute_result"
    }
   ],
   "source": [
    "namespace.services"
   ]
  },
  {
   "cell_type": "markdown",
   "metadata": {},
   "source": [
    "The result should be the empty list, since we just created a new namespace."
   ]
  },
  {
   "cell_type": "markdown",
   "metadata": {},
   "source": [
    "### Creating a service"
   ]
  },
  {
   "cell_type": "markdown",
   "metadata": {},
   "source": [
    "Let's create a simple service that prints the local time. `adamalib` provides functions to initialize an empty service in the local machine, and then to register it in the remote API server.\n",
    "\n",
    "The following command creates a service with a random name, creating a directory with the same name and with the bare minimum information necessary to register the service."
   ]
  },
  {
   "cell_type": "code",
   "execution_count": 38,
   "metadata": {
    "collapsed": false
   },
   "outputs": [
    {
     "data": {
      "text/plain": [
       "u'sine'"
      ]
     },
     "execution_count": 38,
     "metadata": {},
     "output_type": "execute_result"
    }
   ],
   "source": [
    "SERVICE = random_words(n=1)\n",
    "adama.utils.create(SERVICE, 'query')\n",
    "SERVICE"
   ]
  },
  {
   "cell_type": "markdown",
   "metadata": {},
   "source": [
    "The metadata file created contains only the most basic information.  Consult the [docs](http://adama.readthedocs.org/en/latest/metadata.html) for the full list of fields."
   ]
  },
  {
   "cell_type": "code",
   "execution_count": 46,
   "metadata": {
    "collapsed": false
   },
   "outputs": [
    {
     "name": "stdout",
     "output_type": "stream",
     "text": [
      "\r\n",
      "---\r\n",
      "name: sine\r\n",
      "version: 0.1\r\n",
      "type: query\r\n"
     ]
    }
   ],
   "source": [
    "!cat $SERVICE/metadata.yml"
   ]
  },
  {
   "cell_type": "markdown",
   "metadata": {},
   "source": [
    "The following function is an example of a very basic service, which just prints an argument, and the localtime.\n",
    "\n",
    "The first line (`%%writefile ...`) is a \"magic\" command to save the cell to the newly created service."
   ]
  },
  {
   "cell_type": "code",
   "execution_count": 39,
   "metadata": {
    "collapsed": false
   },
   "outputs": [
    {
     "name": "stdout",
     "output_type": "stream",
     "text": [
      "Overwriting sine/main.py\n"
     ]
    }
   ],
   "source": [
    "%%writefile {SERVICE}/main.py\n",
    "\n",
    "import json\n",
    "import datetime\n",
    "\n",
    "def search(args, adama):\n",
    "    print(json.dumps({'name': args.get('name', 'no name given')}))\n",
    "    print('---')\n",
    "    print(json.dumps({'localtime': datetime.datetime.now().isoformat(' ')}))"
   ]
  },
  {
   "cell_type": "markdown",
   "metadata": {},
   "source": [
    "Import the module just created:"
   ]
  },
  {
   "cell_type": "code",
   "execution_count": 40,
   "metadata": {
    "collapsed": false
   },
   "outputs": [
    {
     "data": {
      "text/plain": [
       "<module 'sine.main' from 'sine/main.pyc'>"
      ]
     },
     "execution_count": 40,
     "metadata": {},
     "output_type": "execute_result"
    }
   ],
   "source": [
    "import importlib\n",
    "service_module = importlib.import_module(SERVICE+'.main')\n",
    "reload(service_module)"
   ]
  },
  {
   "cell_type": "markdown",
   "metadata": {},
   "source": [
    "It can be tested immediately:"
   ]
  },
  {
   "cell_type": "code",
   "execution_count": 41,
   "metadata": {
    "collapsed": false
   },
   "outputs": [
    {
     "name": "stdout",
     "output_type": "stream",
     "text": [
      "{\"name\": \"foo\"}\n",
      "---\n",
      "{\"localtime\": \"2015-04-24 20:25:12.662103\"}\n"
     ]
    }
   ],
   "source": [
    "service_module.search({'name': 'foo'}, adama)"
   ]
  },
  {
   "cell_type": "markdown",
   "metadata": {},
   "source": [
    "The last three cells can be edited and re-evaluated until satisfied with the output of the service."
   ]
  },
  {
   "cell_type": "markdown",
   "metadata": {},
   "source": [
    "### Registering a service"
   ]
  },
  {
   "cell_type": "markdown",
   "metadata": {},
   "source": [
    "Next, we proceed to register the service. We use `adamalib` to add the module to the `services` list of the proper namespace.  `adamalib` takes care of uploading any other module needed by `service_module`, including the file `metadata.yml`."
   ]
  },
  {
   "cell_type": "code",
   "execution_count": 42,
   "metadata": {
    "collapsed": false
   },
   "outputs": [
    {
     "data": {
      "text/plain": [
       "Service(/liberius_et/sine_v0.1)"
      ]
     },
     "execution_count": 42,
     "metadata": {},
     "output_type": "execute_result"
    }
   ],
   "source": [
    "service = namespace.services.add(service_module)\n",
    "service"
   ]
  },
  {
   "cell_type": "markdown",
   "metadata": {},
   "source": [
    "The basic operation on the service of type `query` is to perform a search.  The following command performs a `GET` request to the `/search` endpoint of the service:"
   ]
  },
  {
   "cell_type": "code",
   "execution_count": 43,
   "metadata": {
    "collapsed": false
   },
   "outputs": [
    {
     "data": {
      "text/plain": [
       "[{u'name': u'bar'}, {u'localtime': u'2015-04-24 20:25:28.403111'}]"
      ]
     },
     "execution_count": 43,
     "metadata": {},
     "output_type": "execute_result"
    }
   ],
   "source": [
    "service.search(name='bar')"
   ]
  },
  {
   "cell_type": "markdown",
   "metadata": {},
   "source": [
    "## Cleaning up"
   ]
  },
  {
   "cell_type": "markdown",
   "metadata": {},
   "source": [
    "To tidy things up, we delete the service and the namespace:"
   ]
  },
  {
   "cell_type": "code",
   "execution_count": 44,
   "metadata": {
    "collapsed": false
   },
   "outputs": [],
   "source": [
    "service.delete()\n",
    "namespace.delete()"
   ]
  }
 ],
 "metadata": {
  "kernelspec": {
   "display_name": "Python 2",
   "language": "python",
   "name": "python2"
  },
  "language_info": {
   "codemirror_mode": {
    "name": "ipython",
    "version": 2
   },
   "file_extension": ".py",
   "mimetype": "text/x-python",
   "name": "python",
   "nbconvert_exporter": "python",
   "pygments_lexer": "ipython2",
   "version": "2.7.6"
  }
 },
 "nbformat": 4,
 "nbformat_minor": 0
}
